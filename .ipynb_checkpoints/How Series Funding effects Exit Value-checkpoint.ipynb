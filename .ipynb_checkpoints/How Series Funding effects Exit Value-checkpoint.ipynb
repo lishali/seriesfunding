{
 "metadata": {
  "name": ""
 },
 "nbformat": 3,
 "nbformat_minor": 0,
 "worksheets": [
  {
   "cells": [
    {
     "cell_type": "code",
     "collapsed": false,
     "input": [
      "import silo\n",
      "import pandas as pd\n",
      "import numpy as np\n",
      "import scipy as sp\n",
      "from pandas import Series, DataFrame\n",
      "import sklearn"
     ],
     "language": "python",
     "metadata": {},
     "outputs": [],
     "prompt_number": 131
    },
    {
     "cell_type": "heading",
     "level": 1,
     "metadata": {},
     "source": [
      "\n",
      "How Does Series Funding Affect exit values of Startups?"
     ]
    },
    {
     "cell_type": "raw",
     "metadata": {},
     "source": [
      "The following is a screen scrapper I found for seed-db.  It is quite useful as they don't have an API.  We will scrape for info on exit value, and general funding info for companies in the top several incubators.  "
     ]
    },
    {
     "cell_type": "code",
     "collapsed": false,
     "input": [
      "client = silo.SeedDBClient()\n",
      "incubators = DataFrame(client.get_incubators())\n",
      "incubators = incubators.sort(['$ Funding'], ascending = [False])\n",
      "incubators[:5]\n",
      "\n",
      "#Here I  get a list of the top 5 most funded start-up programs"
     ],
     "language": "python",
     "metadata": {},
     "outputs": [
      {
       "html": [
        "<div style=\"max-height:1000px;max-width:1500px;overflow:auto;\">\n",
        "<table border=\"1\" class=\"dataframe\">\n",
        "  <thead>\n",
        "    <tr style=\"text-align: right;\">\n",
        "      <th></th>\n",
        "      <th># Companies</th>\n",
        "      <th>$ Exits</th>\n",
        "      <th>$ Funding</th>\n",
        "      <th>Average $</th>\n",
        "      <th>Country</th>\n",
        "      <th>Employees</th>\n",
        "      <th>Location</th>\n",
        "      <th>Median $</th>\n",
        "      <th>Program</th>\n",
        "      <th>id</th>\n",
        "    </tr>\n",
        "  </thead>\n",
        "  <tbody>\n",
        "    <tr>\n",
        "      <th>10</th>\n",
        "      <td> 588</td>\n",
        "      <td> 1276008100</td>\n",
        "      <td> 2326678093</td>\n",
        "      <td> 3956935</td>\n",
        "      <td> US</td>\n",
        "      <td> 3945</td>\n",
        "      <td>               Silicon Valley, CA</td>\n",
        "      <td>        </td>\n",
        "      <td> Y Combinator\\n\\t\\t\\t\\t\\t Link\\n\\t\\t\\t\\t\\t\\n\\t\\...</td>\n",
        "      <td>  1011</td>\n",
        "    </tr>\n",
        "    <tr>\n",
        "      <th>30</th>\n",
        "      <td>  77</td>\n",
        "      <td>   33000000</td>\n",
        "      <td>  165520176</td>\n",
        "      <td> 2149612</td>\n",
        "      <td> US</td>\n",
        "      <td>  947</td>\n",
        "      <td>                      Boulder, CO</td>\n",
        "      <td>  515000</td>\n",
        "      <td> TechStars Boulder\\n\\t\\t\\t\\t\\t Link\\n\\t\\t\\t\\t\\t...</td>\n",
        "      <td>  3012</td>\n",
        "    </tr>\n",
        "    <tr>\n",
        "      <th>12</th>\n",
        "      <td>  74</td>\n",
        "      <td>  390750000</td>\n",
        "      <td>  148127475</td>\n",
        "      <td> 2001722</td>\n",
        "      <td> US</td>\n",
        "      <td>  398</td>\n",
        "      <td> San Francisco, CA / New York, NY</td>\n",
        "      <td>        </td>\n",
        "      <td> AngelPad\\n\\t\\t\\t\\t\\t Link\\n\\t\\t\\t\\t\\t\\n\\t\\t\\t\\...</td>\n",
        "      <td>  2002</td>\n",
        "    </tr>\n",
        "    <tr>\n",
        "      <th>77</th>\n",
        "      <td>  71</td>\n",
        "      <td>    9000000</td>\n",
        "      <td>  145751733</td>\n",
        "      <td> 2052841</td>\n",
        "      <td> US</td>\n",
        "      <td>  495</td>\n",
        "      <td>                       Boston, MA</td>\n",
        "      <td>  892000</td>\n",
        "      <td> TechStars Boston\\n\\t\\t\\t\\t\\t Link\\n\\t\\t\\t\\t\\t\\...</td>\n",
        "      <td> 17001</td>\n",
        "    </tr>\n",
        "    <tr>\n",
        "      <th>80</th>\n",
        "      <td>  47</td>\n",
        "      <td>   22500000</td>\n",
        "      <td>  105131094</td>\n",
        "      <td> 2236831</td>\n",
        "      <td> US</td>\n",
        "      <td>  321</td>\n",
        "      <td>                     New York, NY</td>\n",
        "      <td> 1218000</td>\n",
        "      <td> TechStars NYC\\n\\t\\t\\t\\t\\t Link\\n\\t\\t\\t\\t\\t\\n\\t...</td>\n",
        "      <td> 18002</td>\n",
        "    </tr>\n",
        "  </tbody>\n",
        "</table>\n",
        "<p>5 rows \u00d7 10 columns</p>\n",
        "</div>"
       ],
       "metadata": {},
       "output_type": "pyout",
       "prompt_number": 2,
       "text": [
        "    # Companies     $ Exits   $ Funding Average $ Country  Employees  \\\n",
        "10          588  1276008100  2326678093   3956935      US       3945   \n",
        "30           77    33000000   165520176   2149612      US        947   \n",
        "12           74   390750000   148127475   2001722      US        398   \n",
        "77           71     9000000   145751733   2052841      US        495   \n",
        "80           47    22500000   105131094   2236831      US        321   \n",
        "\n",
        "                            Location Median $  \\\n",
        "10                Silicon Valley, CA            \n",
        "30                       Boulder, CO   515000   \n",
        "12  San Francisco, CA / New York, NY            \n",
        "77                        Boston, MA   892000   \n",
        "80                      New York, NY  1218000   \n",
        "\n",
        "                                              Program     id  \n",
        "10  Y Combinator\\n\\t\\t\\t\\t\\t Link\\n\\t\\t\\t\\t\\t\\n\\t\\...   1011  \n",
        "30  TechStars Boulder\\n\\t\\t\\t\\t\\t Link\\n\\t\\t\\t\\t\\t...   3012  \n",
        "12  AngelPad\\n\\t\\t\\t\\t\\t Link\\n\\t\\t\\t\\t\\t\\n\\t\\t\\t\\...   2002  \n",
        "77  TechStars Boston\\n\\t\\t\\t\\t\\t Link\\n\\t\\t\\t\\t\\t\\...  17001  \n",
        "80  TechStars NYC\\n\\t\\t\\t\\t\\t Link\\n\\t\\t\\t\\t\\t\\n\\t...  18002  \n",
        "\n",
        "[5 rows x 10 columns]"
       ]
      }
     ],
     "prompt_number": 2
    },
    {
     "cell_type": "raw",
     "metadata": {},
     "source": [
      "Let's first look at the data for 3 most funded incubators.  Y-combinator has certainly far more funding then the next 2"
     ]
    },
    {
     "cell_type": "code",
     "collapsed": false,
     "input": [
      "\n",
      "y_combinator = DataFrame(client.get_incubator(1011))\n",
      "y_combinator['Exit Value'].fillna(0, inplace=True)\n",
      "y_combinator_fixed = y_combinator[np.isfinite(y_combinator['Funding'])]\n",
      "yc_fixed = y_combinator_fixed[['Exit Value', 'Funding']]\n",
      "\n",
      "\n",
      "tech_stars_b = DataFrame(client.get_incubator(3012))\n",
      "tech_stars_b['Exit Value'].fillna(0, inplace=True)\n",
      "ts_fixed = tech_stars_b[np.isfinite(tech_stars_b['Funding'])]\n",
      "ts_fixed = ts_fixed[['Exit Value', 'Funding']]\n",
      "\n",
      "angel_pad = DataFrame(client.get_incubator(2002))\n",
      "angel_pad['Exit Value'].fillna(0, inplace=True)\n",
      "ap_fixed = angel_pad[np.isfinite(angel_pad['Funding'])]\n",
      "ap_fixed = ap_fixed[['Exit Value', 'Funding']]\n",
      "\n",
      "print yc_fixed[:5]\n",
      "print ts_fixed[:5]\n",
      "print ap_fixed[:5]\n",
      "\n"
     ],
     "language": "python",
     "metadata": {},
     "outputs": [
      {
       "output_type": "stream",
       "stream": "stdout",
       "text": [
        "   Exit Value   Funding\n",
        "0    15000000   1000000\n",
        "2           0  48250000\n",
        "3    48000000  41752000\n",
        "4           0    225000\n",
        "6           0     15000\n",
        "\n",
        "[5 rows x 2 columns]\n",
        "   Exit Value  Funding\n",
        "0     3000000   515000\n",
        "1     2000000  1015000\n",
        "2           0    12000\n",
        "3           0    18000\n",
        "4     7500000   415000\n",
        "\n",
        "[5 rows x 2 columns]\n",
        "   Exit Value  Funding\n",
        "1           0  1300000\n",
        "4           0  1220000\n",
        "5     8500000  1400000\n",
        "6           0  2000000\n",
        "7           0   600000\n",
        "\n",
        "[5 rows x 2 columns]\n"
       ]
      }
     ],
     "prompt_number": 3
    },
    {
     "cell_type": "code",
     "collapsed": false,
     "input": [
      "#let's restrict our investigation to the exited or dead values for all three\n",
      "exited_or_dead_y = y_combinator[(y_combinator['State'] == 'Exited') + (y_combinator['State'] == 'Dead')]\n",
      "exit_prices_y = Series(exited_or_dead_y['Exit Value'].values, index=exited_or_dead_y['Company Name'].values)\n",
      "exit_prices_y.map(lambda x: int(x))\n",
      "print exit_prices_y[:10]\n",
      "exit_prices_y.order().plot(kind='bar', xticks=[],)\n",
      "plt.show()\n",
      "\n"
     ],
     "language": "python",
     "metadata": {},
     "outputs": [
      {
       "output_type": "stream",
       "stream": "stdout",
       "text": [
        "Rapportive         15000000\n",
        "Snipshot                  0\n",
        "Xobni              48000000\n",
        "Kirkland North            0\n",
        "Ididwork                  0\n",
        "Voxli                     0\n",
        "reMail              3000000\n",
        "Flightcaster       15000000\n",
        "CarWoo                    0\n",
        "datamarketplace      600000\n",
        "dtype: float64\n"
       ]
      },
      {
       "metadata": {},
       "output_type": "display_data",
       "png": "[encoded data removed]",
       "text": [
        "<matplotlib.figure.Figure at 0x107f87090>"
       ]
      }
     ],
     "prompt_number": 4
    },
    {
     "cell_type": "code",
     "collapsed": false,
     "input": [
      "exited_or_dead_t = tech_stars_b[(tech_stars_b['State'] == 'Exited') + (tech_stars_b['State'] == 'Dead')]\n",
      "exit_prices_t = Series(exited_or_dead_t['Exit Value'].values, index=exited_or_dead_t['Company Name'].values)\n",
      "exit_prices_t.map(lambda x: int(x))\n",
      "print exit_prices_t[:10]\n",
      "exit_prices_t.order().plot(kind='bar', xticks=[],)\n",
      "plt.show()\n",
      "\n"
     ],
     "language": "python",
     "metadata": {},
     "outputs": [
      {
       "output_type": "stream",
       "stream": "stdout",
       "text": [
        "IntenseDebate      3000000\n",
        "Foodzie            2000000\n",
        "StatsMix                 0\n",
        "Socialthing        7500000\n",
        "Brightkite         3000000\n",
        "KB Labs                  0\n",
        "SnapABug            250000\n",
        "Search to Phone          0\n",
        "InboxFever               0\n",
        "EventVue                 0\n",
        "dtype: float64\n"
       ]
      },
      {
       "metadata": {},
       "output_type": "display_data",
       "png": "[encoded data removed]",
       "text": [
        "<matplotlib.figure.Figure at 0x10865ced0>"
       ]
      }
     ],
     "prompt_number": 5
    },
    {
     "cell_type": "code",
     "collapsed": false,
     "input": [
      "exited_or_dead_a = angel_pad[(angel_pad['State'] == 'Exited') + (angel_pad['State'] == 'Dead')]\n",
      "exit_prices_a = Series(exited_or_dead_a['Exit Value'].values, index=exited_or_dead_a['Company Name'].values)\n",
      "exit_prices_a.map(lambda x: int(x))\n",
      "print exit_prices_a[:10]\n",
      "exit_prices_a.order().plot(kind='bar', xticks=[],)\n",
      "plt.show()"
     ],
     "language": "python",
     "metadata": {},
     "outputs": [
      {
       "output_type": "stream",
       "stream": "stdout",
       "text": [
        "Hopscotch             1000000\n",
        "Pict (was Dro.pt)     8500000\n",
        "Hug Energy                  0\n",
        "Astrid               10000000\n",
        "ShopLogic             3000000\n",
        "FeedGen                     0\n",
        "Yobble                      0\n",
        "RollCall                    0\n",
        "EggCartel                   0\n",
        "Spotivate                   0\n",
        "dtype: float64\n"
       ]
      },
      {
       "metadata": {},
       "output_type": "display_data",
       "png": "[encoded data removed]",
       "text": [
        "<matplotlib.figure.Figure at 0x108620190>"
       ]
      }
     ],
     "prompt_number": 6
    },
    {
     "cell_type": "raw",
     "metadata": {},
     "source": [
      "I'm interested in how the exited price correlates with input funding.  \n",
      "\n",
      "We plot on a logarithmic scale because by inspection the amount of money funded and made grows exponentionally.\n",
      "\n",
      "As we see from the plots, this was the correct choice (I have also plotted it with linear scale\n",
      "and it did not show the data very well]."
     ]
    },
    {
     "cell_type": "code",
     "collapsed": false,
     "input": [
      "y = np.log(yc_fixed['Funding'], dtype='float64')\n",
      "x = np.log(yc_fixed['Exit Value'], dtype='float64')\n",
      "\n",
      "fig = plt.figure()\n",
      "plt.scatter(x, y)"
     ],
     "language": "python",
     "metadata": {},
     "outputs": [
      {
       "metadata": {},
       "output_type": "pyout",
       "prompt_number": 7,
       "text": [
        "<matplotlib.collections.PathCollection at 0x1080f9910>"
       ]
      },
      {
       "metadata": {},
       "output_type": "display_data",
       "png": "[encoded data removed]",
       "text": [
        "<matplotlib.figure.Figure at 0x10818edd0>"
       ]
      }
     ],
     "prompt_number": 7
    },
    {
     "cell_type": "raw",
     "metadata": {},
     "source": [
      "Let's plot for angel pad and tech stars"
     ]
    },
    {
     "cell_type": "code",
     "collapsed": false,
     "input": [
      "\n",
      "y = np.log(ts_fixed['Funding'], dtype='float64')\n",
      "x = np.log(ts_fixed['Exit Value'], dtype='float64')\n",
      "\n",
      "fig = plt.figure()\n",
      "plt.scatter(x, y)\n",
      "\n"
     ],
     "language": "python",
     "metadata": {},
     "outputs": [
      {
       "metadata": {},
       "output_type": "pyout",
       "prompt_number": 8,
       "text": [
        "<matplotlib.collections.PathCollection at 0x1080eeb50>"
       ]
      },
      {
       "metadata": {},
       "output_type": "display_data",
       "png": "[encoded data removed]",
       "text": [
        "<matplotlib.figure.Figure at 0x1080f2450>"
       ]
      }
     ],
     "prompt_number": 8
    },
    {
     "cell_type": "code",
     "collapsed": false,
     "input": [
      "y = np.log(ap_fixed['Funding'], dtype='float64')\n",
      "x = np.log(ap_fixed['Exit Value'], dtype='float64')\n",
      "\n",
      "fig = plt.figure()\n",
      "plt.scatter(x, y)"
     ],
     "language": "python",
     "metadata": {},
     "outputs": [
      {
       "metadata": {},
       "output_type": "pyout",
       "prompt_number": 9,
       "text": [
        "<matplotlib.collections.PathCollection at 0x107fce050>"
       ]
      },
      {
       "metadata": {},
       "output_type": "display_data",
       "png": "[encoded data removed]",
       "text": [
        "<matplotlib.figure.Figure at 0x108129e10>"
       ]
      }
     ],
     "prompt_number": 9
    },
    {
     "cell_type": "raw",
     "metadata": {},
     "source": [
      "corrlation seems to carry across incubators.\n",
      "That's pretty interesting.  It would be  interesting to see what happens when we only restrict up to series b funding...etc.  Seed-db does not have this data, so we would have to extract it from the crunch base API.  \n",
      "\n",
      "my goal is to refine the scatterplot based on amount raised at each funding series\n",
      "\n",
      "Let's look at the y_combinator data again, sorted this time based on exit valuation, to make a list of companies we would like to create a funding DataFrame of based on the series it was raised in.  "
     ]
    },
    {
     "cell_type": "code",
     "collapsed": false,
     "input": [
      "y_comb = y_combinator.sort(['Exit Value'], ascending = [False])\n",
      "y_comb[:5]"
     ],
     "language": "python",
     "metadata": {},
     "outputs": [
      {
       "html": [
        "<div style=\"max-height:1000px;max-width:1500px;overflow:auto;\">\n",
        "<table border=\"1\" class=\"dataframe\">\n",
        "  <thead>\n",
        "    <tr style=\"text-align: right;\">\n",
        "      <th></th>\n",
        "      <th>Cohort Date</th>\n",
        "      <th>Company Name</th>\n",
        "      <th>Confidence</th>\n",
        "      <th>Employees</th>\n",
        "      <th>Exit Value</th>\n",
        "      <th>Funding</th>\n",
        "      <th>State</th>\n",
        "    </tr>\n",
        "  </thead>\n",
        "  <tbody>\n",
        "    <tr>\n",
        "      <th>190</th>\n",
        "      <td> 1/2008</td>\n",
        "      <td>    Heroku</td>\n",
        "      <td> H</td>\n",
        "      <td> 80</td>\n",
        "      <td> 250000000</td>\n",
        "      <td> 13020000</td>\n",
        "      <td> Exited</td>\n",
        "    </tr>\n",
        "    <tr>\n",
        "      <th>331</th>\n",
        "      <td> 6/2006</td>\n",
        "      <td>    OMGPOP</td>\n",
        "      <td> H</td>\n",
        "      <td> 50</td>\n",
        "      <td> 210000000</td>\n",
        "      <td> 16600000</td>\n",
        "      <td> Exited</td>\n",
        "    </tr>\n",
        "    <tr>\n",
        "      <th>267</th>\n",
        "      <td> 6/2011</td>\n",
        "      <td>     Parse</td>\n",
        "      <td> H</td>\n",
        "      <td> 30</td>\n",
        "      <td>  90000000</td>\n",
        "      <td>  7000000</td>\n",
        "      <td> Exited</td>\n",
        "    </tr>\n",
        "    <tr>\n",
        "      <th>240</th>\n",
        "      <td> 1/2012</td>\n",
        "      <td> SocialCam</td>\n",
        "      <td> H</td>\n",
        "      <td>  3</td>\n",
        "      <td>  60000000</td>\n",
        "      <td>      NaN</td>\n",
        "      <td> Exited</td>\n",
        "    </tr>\n",
        "    <tr>\n",
        "      <th>192</th>\n",
        "      <td> 1/2010</td>\n",
        "      <td>   Greplin</td>\n",
        "      <td> H</td>\n",
        "      <td>NaN</td>\n",
        "      <td>  50000000</td>\n",
        "      <td>  4715000</td>\n",
        "      <td> Exited</td>\n",
        "    </tr>\n",
        "  </tbody>\n",
        "</table>\n",
        "<p>5 rows \u00d7 7 columns</p>\n",
        "</div>"
       ],
       "metadata": {},
       "output_type": "pyout",
       "prompt_number": 10,
       "text": [
        "    Cohort Date Company Name Confidence  Employees  Exit Value   Funding  \\\n",
        "190      1/2008       Heroku          H         80   250000000  13020000   \n",
        "331      6/2006       OMGPOP          H         50   210000000  16600000   \n",
        "267      6/2011        Parse          H         30    90000000   7000000   \n",
        "240      1/2012    SocialCam          H          3    60000000       NaN   \n",
        "192      1/2010      Greplin          H        NaN    50000000   4715000   \n",
        "\n",
        "      State  \n",
        "190  Exited  \n",
        "331  Exited  \n",
        "267  Exited  \n",
        "240  Exited  \n",
        "192  Exited  \n",
        "\n",
        "[5 rows x 7 columns]"
       ]
      }
     ],
     "prompt_number": 10
    },
    {
     "cell_type": "code",
     "collapsed": false,
     "input": [
      "#Our Crunchbase API wrapper\n",
      "\n",
      "import pycrunch\n",
      "from pycrunch import CrunchBaseClient\n",
      "client = CrunchBaseClient('x5a5s49v84xcwwn895aryq9x')"
     ],
     "language": "python",
     "metadata": {},
     "outputs": [],
     "prompt_number": 11
    },
    {
     "cell_type": "raw",
     "metadata": {},
     "source": [
      "We are creating a list of names of companies from y combinator we would like to extract detailed funding info from"
     ]
    },
    {
     "cell_type": "code",
     "collapsed": false,
     "input": [
      "yc_com = y_comb['Company Name']\n",
      "yc_com = yc_com.str.lower()\n",
      "yc_com = pd.DataFrame(yc_com)\n",
      "\n",
      "a = y_comb['Exit Value']\n",
      "\n",
      "yc_com_EV = pd.DataFrame(a)\n",
      "print yc_com_EV[:4]\n",
      "\n",
      "print yc_com_EV[:10]\n",
      "\n",
      "yea = DataFrame.merge(yc_com, yc_com_EV, left_index=True, right_index = True, how='outer')\n",
      "print yea[:6]\n",
      "\n",
      "#My current index for yea doesn't mean much, so let's reindex by the name of the company in yea, so we can later plot yea\n",
      "#against Series funding in our new dataframe!\n",
      "\n",
      "exit_values = yea.set_index('Company Name')\n",
      "\n",
      "print exit_values.head()\n"
     ],
     "language": "python",
     "metadata": {},
     "outputs": [
      {
       "output_type": "stream",
       "stream": "stdout",
       "text": [
        "     Exit Value\n",
        "190   250000000\n",
        "331   210000000\n",
        "267    90000000\n",
        "240    60000000\n",
        "\n",
        "[4 rows x 1 columns]\n",
        "     Exit Value\n",
        "190   250000000\n",
        "331   210000000\n",
        "267    90000000\n",
        "240    60000000\n",
        "192    50000000\n",
        "130    50000000\n",
        "3      48000000\n",
        "362    43000000\n",
        "242    40000000\n",
        "66     35000000\n",
        "\n",
        "[10 rows x 1 columns]\n",
        "    Company Name  Exit Value\n",
        "190       heroku   250000000\n",
        "331       omgpop   210000000\n",
        "267        parse    90000000\n",
        "240    socialcam    60000000\n",
        "192      greplin    50000000\n",
        "130     cardpool    50000000\n",
        "\n",
        "[6 rows x 2 columns]\n",
        "              Exit Value\n",
        "Company Name            \n",
        "heroku         250000000\n",
        "omgpop         210000000\n",
        "parse           90000000\n",
        "socialcam       60000000\n",
        "greplin         50000000\n",
        "\n",
        "[5 rows x 1 columns]\n"
       ]
      }
     ],
     "prompt_number": 87
    },
    {
     "cell_type": "raw",
     "metadata": {},
     "source": [
      "Before we create a database of all series funding rounds for each company in y-comb, there is on thing we need to be careful about.  While playing with the data, I noticed that crunch base will store funding_rounds data that mentions more than 1 funding amount as belonging to a particular series.  For instance, airbnb, as we will see below, has two seed amounts:"
     ]
    },
    {
     "cell_type": "code",
     "collapsed": false,
     "input": [
      "airbnb = client.companies.get_by_name('airbnb').funding_rounds\n",
      "airbnb_list = [(round.round_code,round.raised_amount) for round in airbnb]\n",
      "airbnb_list.append(('Exited Value',int(yea[ (yea[\"Company Name\"] == ('airbnb'))]['Exit Value'])))\n",
      "print airbnb_list"
     ],
     "language": "python",
     "metadata": {},
     "outputs": [
      {
       "output_type": "stream",
       "stream": "stdout",
       "text": [
        "[(u'seed', 20000.0), (u'seed', 600000.0), (u'a', 7200000.0), (u'b', 112000000.0), (u'c', 200000000.0), (u'unattributed', 6621000.0), ('Exited Value', 0)]\n"
       ]
      }
     ],
     "prompt_number": 67
    },
    {
     "cell_type": "raw",
     "metadata": {},
     "source": [
      "So the problem with creating a dictionary to store airbnb's funding-round data is that the key value for 'seed' will only get the last amount (600000.0).  We need the aggregate amount, so let's make sure our function does an intermediate step to aggregate all funds acculmulated for the same series.  \n",
      "\n",
      "Another thing we can notice above is that there are 'unattributed' amounts of money.  We can do the extra work of figuring out what times these amounts were given, for our final analysis.  But the data is very messy, and not all companies have complete information for when certain unattributed amounts were collected.  So in the meantime, we will only take into account this money as part of the final sum, but not clean it up for now.  \n",
      "\n",
      "Now let's define some functions to help make our funding rounds DataFrame. "
     ]
    },
    {
     "cell_type": "code",
     "collapsed": false,
     "input": [
      "import collections\n",
      "\n",
      "#The following will make our dict of airbnb funding amounts\n",
      "\n",
      "def list_aggregator(lst):\n",
      "    counts = collections.Counter()\n",
      "    for k,v in lst:\n",
      "        counts[k] += v if v is not None else 0\n",
      "    return counts\n",
      "\n",
      "list_aggregator(airbnb_list)"
     ],
     "language": "python",
     "metadata": {},
     "outputs": [
      {
       "metadata": {},
       "output_type": "pyout",
       "prompt_number": 14,
       "text": [
        "Counter({u'c': 200000000.0, u'b': 112000000.0, u'a': 7200000.0, u'unattributed': 6621000.0, u'seed': 620000.0})"
       ]
      }
     ],
     "prompt_number": 14
    },
    {
     "cell_type": "code",
     "collapsed": false,
     "input": [
      "\n",
      "def table_rounds(a):\n",
      "    record = client.companies.get_by_name(a)\n",
      "    b = record.funding_rounds\n",
      "    if b is not None:\n",
      "        b = [(round.round_code, round.raised_amount) for round in b]\n",
      "    else:\n",
      "        b = []\n",
      "#    b.append('Exit Value', int(yea[ (yea[\"Company Name\"] == (a))]['Exit Value']))\n",
      "    b= list_aggregator(b)\n",
      "    return Series(b)\n",
      "\n",
      "def dataframe(a):\n",
      "    y = pd.DataFrame(table_rounds(a))\n",
      "    y = y.rename(columns={0: a})\n",
      "    return pd.DataFrame(y).stack(level=0).unstack(level=0)\n",
      "\n",
      "#defining a function to make any company we put in it a DataFrame of values for funding amounts\n"
     ],
     "language": "python",
     "metadata": {},
     "outputs": [],
     "prompt_number": 80
    },
    {
     "cell_type": "code",
     "collapsed": false,
     "input": [
      "#we are going to iterate the above function over all of the companies in y_com\n",
      "def massive_list(lst):\n",
      "    y=[]\n",
      "    for item in lst:\n",
      "        print item\n",
      "        try:\n",
      "            y.append(dataframe(item))\n",
      "        except:\n",
      "            print '{} is fucked'.format(item)\n",
      "    return y\n",
      "\n",
      "new_list = pd.concat(massive_list(yc_com))"
     ],
     "language": "python",
     "metadata": {},
     "outputs": [
      {
       "output_type": "stream",
       "stream": "stdout",
       "text": [
        "heroku\n",
        "omgpop"
       ]
      },
      {
       "output_type": "stream",
       "stream": "stdout",
       "text": [
        "\n",
        "parse"
       ]
      },
      {
       "output_type": "stream",
       "stream": "stdout",
       "text": [
        "\n",
        "socialcam"
       ]
      },
      {
       "output_type": "stream",
       "stream": "stdout",
       "text": [
        "\n",
        "greplin"
       ]
      },
      {
       "output_type": "stream",
       "stream": "stdout",
       "text": [
        "\n",
        "cardpool"
       ]
      },
      {
       "output_type": "stream",
       "stream": "stdout",
       "text": [
        "\n",
        "xobni"
       ]
      },
      {
       "output_type": "stream",
       "stream": "stdout",
       "text": [
        "\n",
        "loopt"
       ]
      },
      {
       "output_type": "stream",
       "stream": "stdout",
       "text": [
        "\n",
        "flutter"
       ]
      },
      {
       "output_type": "stream",
       "stream": "stdout",
       "text": [
        "\n",
        "wufoo"
       ]
      },
      {
       "output_type": "stream",
       "stream": "stdout",
       "text": [
        "\n",
        "cloudkick"
       ]
      },
      {
       "output_type": "stream",
       "stream": "stdout",
       "text": [
        "\n",
        "mailgun"
       ]
      },
      {
       "output_type": "stream",
       "stream": "stdout",
       "text": [
        "\n",
        "zencoder"
       ]
      },
      {
       "output_type": "stream",
       "stream": "stdout",
       "text": [
        "\n",
        "bump"
       ]
      },
      {
       "output_type": "stream",
       "stream": "stdout",
       "text": [
        "\n",
        "reddit"
       ]
      },
      {
       "output_type": "stream",
       "stream": "stdout",
       "text": [
        "\n",
        "280 north"
       ]
      },
      {
       "output_type": "stream",
       "stream": "stdout",
       "text": [
        "\n",
        "1000memories"
       ]
      },
      {
       "output_type": "stream",
       "stream": "stdout",
       "text": [
        "\n",
        "talkbin"
       ]
      },
      {
       "output_type": "stream",
       "stream": "stdout",
       "text": [
        "\n",
        "rapportive"
       ]
      },
      {
       "output_type": "stream",
       "stream": "stdout",
       "text": [
        "\n",
        "movity"
       ]
      },
      {
       "output_type": "stream",
       "stream": "stdout",
       "text": [
        "\n",
        "omnisio"
       ]
      },
      {
       "output_type": "stream",
       "stream": "stdout",
       "text": [
        "\n",
        "flightcaster"
       ]
      },
      {
       "output_type": "stream",
       "stream": "stdout",
       "text": [
        "\n",
        "mertado"
       ]
      },
      {
       "output_type": "stream",
       "stream": "stdout",
       "text": [
        "\n",
        "adgrok"
       ]
      },
      {
       "output_type": "stream",
       "stream": "stdout",
       "text": [
        "\n",
        "posterous"
       ]
      },
      {
       "output_type": "stream",
       "stream": "stdout",
       "text": [
        "\n",
        "dailybooth"
       ]
      },
      {
       "output_type": "stream",
       "stream": "stdout",
       "text": [
        "\n",
        "zecter (versionate)"
       ]
      },
      {
       "output_type": "stream",
       "stream": "stdout",
       "text": [
        "\n",
        "appjet"
       ]
      },
      {
       "output_type": "stream",
       "stream": "stdout",
       "text": [
        "\n",
        "socialpicks"
       ]
      },
      {
       "output_type": "stream",
       "stream": "stdout",
       "text": [
        "\n",
        "divvyshot"
       ]
      },
      {
       "output_type": "stream",
       "stream": "stdout",
       "text": [
        "\n",
        "echodio"
       ]
      },
      {
       "output_type": "stream",
       "stream": "stdout",
       "text": [
        "\n",
        "snapjoy"
       ]
      },
      {
       "output_type": "stream",
       "stream": "stdout",
       "text": [
        "\n",
        "backtype"
       ]
      },
      {
       "output_type": "stream",
       "stream": "stdout",
       "text": [
        "\n",
        "auctomatic"
       ]
      },
      {
       "output_type": "stream",
       "stream": "stdout",
       "text": [
        "\n",
        "parakey"
       ]
      },
      {
       "output_type": "stream",
       "stream": "stdout",
       "text": [
        "\n",
        "zenter"
       ]
      },
      {
       "output_type": "stream",
       "stream": "stdout",
       "text": [
        "\n",
        "heysan"
       ]
      },
      {
       "output_type": "stream",
       "stream": "stdout",
       "text": [
        "\n",
        "youos"
       ]
      },
      {
       "output_type": "stream",
       "stream": "stdout",
       "text": [
        "\n",
        "etacts"
       ]
      },
      {
       "output_type": "stream",
       "stream": "stdout",
       "text": [
        "\n",
        "bufferbox"
       ]
      },
      {
       "output_type": "stream",
       "stream": "stdout",
       "text": [
        "\n",
        "the fridge"
       ]
      },
      {
       "output_type": "stream",
       "stream": "stdout",
       "text": [
        "\n",
        "firecrawl"
       ]
      },
      {
       "output_type": "stream",
       "stream": "stdout",
       "text": [
        "\n",
        "remail"
       ]
      },
      {
       "output_type": "stream",
       "stream": "stdout",
       "text": [
        "\n",
        "lingt"
       ]
      },
      {
       "output_type": "stream",
       "stream": "stdout",
       "text": [
        "\n",
        "stypi"
       ]
      },
      {
       "output_type": "stream",
       "stream": "stdout",
       "text": [
        "\n",
        "gazehawk"
       ]
      },
      {
       "output_type": "stream",
       "stream": "stdout",
       "text": [
        "\n",
        "sendoid"
       ]
      },
      {
       "output_type": "stream",
       "stream": "stdout",
       "text": [
        "\n",
        "anywhere.fm"
       ]
      },
      {
       "output_type": "stream",
       "stream": "stdout",
       "text": [
        "\n",
        "anywhere.fm is fucked"
       ]
      },
      {
       "output_type": "stream",
       "stream": "stdout",
       "text": [
        "\n",
        "tapengage\n",
        "meetings.io"
       ]
      },
      {
       "output_type": "stream",
       "stream": "stdout",
       "text": [
        "\n",
        "meetings.io is fucked"
       ]
      },
      {
       "output_type": "stream",
       "stream": "stdout",
       "text": [
        "\n",
        "fanpulse\n",
        "glassmap"
       ]
      },
      {
       "output_type": "stream",
       "stream": "stdout",
       "text": [
        "\n",
        "clutch.io"
       ]
      },
      {
       "output_type": "stream",
       "stream": "stdout",
       "text": [
        "\n",
        "clutch.io is fucked"
       ]
      },
      {
       "output_type": "stream",
       "stream": "stdout",
       "text": [
        "\n",
        "munch on me\n",
        "clickpass"
       ]
      },
      {
       "output_type": "stream",
       "stream": "stdout",
       "text": [
        "\n",
        "datamarketplace"
       ]
      },
      {
       "output_type": "stream",
       "stream": "stdout",
       "text": [
        "\n",
        "voicegem"
       ]
      },
      {
       "output_type": "stream",
       "stream": "stdout",
       "text": [
        "\n",
        "hackermeter"
       ]
      },
      {
       "output_type": "stream",
       "stream": "stdout",
       "text": [
        "\n",
        "kiko"
       ]
      },
      {
       "output_type": "stream",
       "stream": "stdout",
       "text": [
        "\n",
        "graffitigeo"
       ]
      },
      {
       "output_type": "stream",
       "stream": "stdout",
       "text": [
        "\n",
        "picwing"
       ]
      },
      {
       "output_type": "stream",
       "stream": "stdout",
       "text": [
        "\n",
        "slinkset"
       ]
      },
      {
       "output_type": "stream",
       "stream": "stdout",
       "text": [
        "\n",
        "crowdtilt"
       ]
      },
      {
       "output_type": "stream",
       "stream": "stdout",
       "text": [
        "\n",
        "wundrbar"
       ]
      },
      {
       "output_type": "stream",
       "stream": "stdout",
       "text": [
        "\n",
        "medigram"
       ]
      },
      {
       "output_type": "stream",
       "stream": "stdout",
       "text": [
        "\n",
        "chart.io"
       ]
      },
      {
       "output_type": "stream",
       "stream": "stdout",
       "text": [
        "\n",
        "chart.io is fucked"
       ]
      },
      {
       "output_type": "stream",
       "stream": "stdout",
       "text": [
        "\n",
        "farmlogs\n",
        "tsumobi"
       ]
      },
      {
       "output_type": "stream",
       "stream": "stdout",
       "text": [
        "\n",
        "tellfi"
       ]
      },
      {
       "output_type": "stream",
       "stream": "stdout",
       "text": [
        "\n",
        "socialmoth"
       ]
      },
      {
       "output_type": "stream",
       "stream": "stdout",
       "text": [
        "\n",
        "yc w12 stealth - #62"
       ]
      },
      {
       "output_type": "stream",
       "stream": "stdout",
       "text": [
        "\n",
        "yc w12 stealth - #62 is fucked"
       ]
      },
      {
       "output_type": "stream",
       "stream": "stdout",
       "text": [
        "\n",
        "noteleaf\n",
        "flagr"
       ]
      },
      {
       "output_type": "stream",
       "stream": "stdout",
       "text": [
        "\n",
        "pebble technology"
       ]
      },
      {
       "output_type": "stream",
       "stream": "stdout",
       "text": [
        "\n",
        "marketbrief"
       ]
      },
      {
       "output_type": "stream",
       "stream": "stdout",
       "text": [
        "\n",
        "aisle50"
       ]
      },
      {
       "output_type": "stream",
       "stream": "stdout",
       "text": [
        "\n",
        "launchpad toys"
       ]
      },
      {
       "output_type": "stream",
       "stream": "stdout",
       "text": [
        "\n",
        "pagelever"
       ]
      },
      {
       "output_type": "stream",
       "stream": "stdout",
       "text": [
        "\n",
        "chute"
       ]
      },
      {
       "output_type": "stream",
       "stream": "stdout",
       "text": [
        "\n",
        "siasto"
       ]
      },
      {
       "output_type": "stream",
       "stream": "stdout",
       "text": [
        "\n",
        "automatic"
       ]
      },
      {
       "output_type": "stream",
       "stream": "stdout",
       "text": [
        "\n",
        "yc s11 stealth - #59"
       ]
      },
      {
       "output_type": "stream",
       "stream": "stdout",
       "text": [
        "\n",
        "yc s11 stealth - #59 is fucked"
       ]
      },
      {
       "output_type": "stream",
       "stream": "stdout",
       "text": [
        "\n",
        "everyart\n",
        "infogami"
       ]
      },
      {
       "output_type": "stream",
       "stream": "stdout",
       "text": [
        "\n",
        "makegameswithus"
       ]
      },
      {
       "output_type": "stream",
       "stream": "stdout",
       "text": [
        "\n",
        "meetcast"
       ]
      },
      {
       "output_type": "stream",
       "stream": "stdout",
       "text": [
        "\n",
        "tikl"
       ]
      },
      {
       "output_type": "stream",
       "stream": "stdout",
       "text": [
        "\n",
        "kyte"
       ]
      },
      {
       "output_type": "stream",
       "stream": "stdout",
       "text": [
        "\n",
        "shopular"
       ]
      },
      {
       "output_type": "stream",
       "stream": "stdout",
       "text": [
        "\n",
        "yc w12 stealth - #65"
       ]
      },
      {
       "output_type": "stream",
       "stream": "stdout",
       "text": [
        "\n",
        "yc w12 stealth - #65 is fucked"
       ]
      },
      {
       "output_type": "stream",
       "stream": "stdout",
       "text": [
        "\n",
        "memamp\n",
        "adpinion"
       ]
      },
      {
       "output_type": "stream",
       "stream": "stdout",
       "text": [
        "\n",
        "infoharmoni"
       ]
      },
      {
       "output_type": "stream",
       "stream": "stdout",
       "text": [
        "\n",
        "8aweek"
       ]
      },
      {
       "output_type": "stream",
       "stream": "stdout",
       "text": [
        "\n",
        "slapvid"
       ]
      },
      {
       "output_type": "stream",
       "stream": "stdout",
       "text": [
        "\n",
        "draftmix"
       ]
      },
      {
       "output_type": "stream",
       "stream": "stdout",
       "text": [
        "\n",
        "socialbrowse"
       ]
      },
      {
       "output_type": "stream",
       "stream": "stdout",
       "text": [
        "\n",
        "picurio"
       ]
      },
      {
       "output_type": "stream",
       "stream": "stdout",
       "text": [
        "\n",
        "ark"
       ]
      },
      {
       "output_type": "stream",
       "stream": "stdout",
       "text": [
        "\n",
        "yc s09 stealth - #24"
       ]
      },
      {
       "output_type": "stream",
       "stream": "stdout",
       "text": [
        "\n",
        "yc s09 stealth - #24 is fucked"
       ]
      },
      {
       "output_type": "stream",
       "stream": "stdout",
       "text": [
        "\n",
        "gamador\n",
        "teevox"
       ]
      },
      {
       "output_type": "stream",
       "stream": "stdout",
       "text": [
        "\n",
        "weebly"
       ]
      },
      {
       "output_type": "stream",
       "stream": "stdout",
       "text": [
        "\n",
        "yc s10 stealth - #36"
       ]
      },
      {
       "output_type": "stream",
       "stream": "stdout",
       "text": [
        "\n",
        "yc s10 stealth - #36 is fucked"
       ]
      },
      {
       "output_type": "stream",
       "stream": "stdout",
       "text": [
        "\n",
        "swipegood\n",
        "codecademy"
       ]
      },
      {
       "output_type": "stream",
       "stream": "stdout",
       "text": [
        "\n",
        "perfect audience"
       ]
      },
      {
       "output_type": "stream",
       "stream": "stdout",
       "text": [
        "\n",
        "meteor"
       ]
      },
      {
       "output_type": "stream",
       "stream": "stdout",
       "text": [
        "\n",
        "segment.io"
       ]
      },
      {
       "output_type": "stream",
       "stream": "stdout",
       "text": [
        "\n",
        "segment.io is fucked"
       ]
      },
      {
       "output_type": "stream",
       "stream": "stdout",
       "text": [
        "\n",
        "hackpad\n",
        "plangrid"
       ]
      },
      {
       "output_type": "stream",
       "stream": "stdout",
       "text": [
        "\n",
        "yc w12 stealth - #57"
       ]
      },
      {
       "output_type": "stream",
       "stream": "stdout",
       "text": [
        "\n",
        "yc w12 stealth - #57 is fucked"
       ]
      },
      {
       "output_type": "stream",
       "stream": "stdout",
       "text": [
        "\n",
        "sonalight\n",
        "draft"
       ]
      },
      {
       "output_type": "stream",
       "stream": "stdout",
       "text": [
        "\n",
        "mongohq"
       ]
      },
      {
       "output_type": "stream",
       "stream": "stdout",
       "text": [
        "\n",
        "olark"
       ]
      },
      {
       "output_type": "stream",
       "stream": "stdout",
       "text": [
        "\n",
        "awesomehighlighter"
       ]
      },
      {
       "output_type": "stream",
       "stream": "stdout",
       "text": [
        "\n",
        "opez"
       ]
      },
      {
       "output_type": "stream",
       "stream": "stdout",
       "text": [
        "\n",
        "precognate"
       ]
      },
      {
       "output_type": "stream",
       "stream": "stdout",
       "text": [
        "\n",
        "fathomdb"
       ]
      },
      {
       "output_type": "stream",
       "stream": "stdout",
       "text": [
        "\n",
        "joberator"
       ]
      },
      {
       "output_type": "stream",
       "stream": "stdout",
       "text": [
        "\n",
        "mixwit"
       ]
      },
      {
       "output_type": "stream",
       "stream": "stdout",
       "text": [
        "\n",
        "biographicon"
       ]
      },
      {
       "output_type": "stream",
       "stream": "stdout",
       "text": [
        "\n",
        "cloudant"
       ]
      },
      {
       "output_type": "stream",
       "stream": "stdout",
       "text": [
        "\n",
        "whitenoise networks"
       ]
      },
      {
       "output_type": "stream",
       "stream": "stdout",
       "text": [
        "\n",
        "mobileworks"
       ]
      },
      {
       "output_type": "stream",
       "stream": "stdout",
       "text": [
        "\n",
        "picplum"
       ]
      },
      {
       "output_type": "stream",
       "stream": "stdout",
       "text": [
        "\n",
        "vidyard"
       ]
      },
      {
       "output_type": "stream",
       "stream": "stdout",
       "text": [
        "\n",
        "thinkature"
       ]
      },
      {
       "output_type": "stream",
       "stream": "stdout",
       "text": [
        "\n",
        "doublerecall"
       ]
      },
      {
       "output_type": "stream",
       "stream": "stdout",
       "text": [
        "\n",
        "agilediagnosis"
       ]
      },
      {
       "output_type": "stream",
       "stream": "stdout",
       "text": [
        "\n",
        "yc s11 stealth - #61"
       ]
      },
      {
       "output_type": "stream",
       "stream": "stdout",
       "text": [
        "\n",
        "yc s11 stealth - #61 is fucked"
       ]
      },
      {
       "output_type": "stream",
       "stream": "stdout",
       "text": [
        "\n",
        "clever\n",
        "anyperk"
       ]
      },
      {
       "output_type": "stream",
       "stream": "stdout",
       "text": [
        "\n",
        "flightfox"
       ]
      },
      {
       "output_type": "stream",
       "stream": "stdout",
       "text": [
        "\n",
        "anyvivo"
       ]
      },
      {
       "output_type": "stream",
       "stream": "stdout",
       "text": [
        "\n",
        "amiato"
       ]
      },
      {
       "output_type": "stream",
       "stream": "stdout",
       "text": [
        "\n",
        "yc w11 stealth - #43"
       ]
      },
      {
       "output_type": "stream",
       "stream": "stdout",
       "text": [
        "\n",
        "yc w11 stealth - #43 is fucked"
       ]
      },
      {
       "output_type": "stream",
       "stream": "stdout",
       "text": [
        "\n",
        "trustegg\n",
        "kaleidoscope"
       ]
      },
      {
       "output_type": "stream",
       "stream": "stdout",
       "text": [
        "\n",
        "minomonsters"
       ]
      },
      {
       "output_type": "stream",
       "stream": "stdout",
       "text": [
        "\n",
        "familyleaf"
       ]
      },
      {
       "output_type": "stream",
       "stream": "stdout",
       "text": [
        "\n",
        "wireover"
       ]
      },
      {
       "output_type": "stream",
       "stream": "stdout",
       "text": [
        "\n",
        "leanmarket"
       ]
      },
      {
       "output_type": "stream",
       "stream": "stdout",
       "text": [
        "\n",
        "talkito"
       ]
      },
      {
       "output_type": "stream",
       "stream": "stdout",
       "text": [
        "\n",
        "disqus"
       ]
      },
      {
       "output_type": "stream",
       "stream": "stdout",
       "text": [
        "\n",
        "cryptoseal"
       ]
      },
      {
       "output_type": "stream",
       "stream": "stdout",
       "text": [
        "\n",
        "addmired"
       ]
      },
      {
       "output_type": "stream",
       "stream": "stdout",
       "text": [
        "\n",
        "debteye"
       ]
      },
      {
       "output_type": "stream",
       "stream": "stdout",
       "text": [
        "\n",
        "snaptalent"
       ]
      },
      {
       "output_type": "stream",
       "stream": "stdout",
       "text": [
        "\n",
        "yc w11 stealth - #44"
       ]
      },
      {
       "output_type": "stream",
       "stream": "stdout",
       "text": [
        "\n",
        "yc w11 stealth - #44 is fucked"
       ]
      },
      {
       "output_type": "stream",
       "stream": "stdout",
       "text": [
        "\n",
        "youlicit\n",
        "e la carte"
       ]
      },
      {
       "output_type": "stream",
       "stream": "stdout",
       "text": [
        "\n",
        "adioso"
       ]
      },
      {
       "output_type": "stream",
       "stream": "stdout",
       "text": [
        "\n",
        "instantq"
       ]
      },
      {
       "output_type": "stream",
       "stream": "stdout",
       "text": [
        "\n",
        "curebit"
       ]
      },
      {
       "output_type": "stream",
       "stream": "stdout",
       "text": [
        "\n",
        "wepay"
       ]
      },
      {
       "output_type": "stream",
       "stream": "stdout",
       "text": [
        "\n",
        "hipmunk"
       ]
      },
      {
       "output_type": "stream",
       "stream": "stdout",
       "text": [
        "\n",
        "newslabs"
       ]
      },
      {
       "output_type": "stream",
       "stream": "stdout",
       "text": [
        "\n",
        "crocodoc"
       ]
      },
      {
       "output_type": "stream",
       "stream": "stdout",
       "text": [
        "\n",
        "fabricly"
       ]
      },
      {
       "output_type": "stream",
       "stream": "stdout",
       "text": [
        "\n",
        "lockitron"
       ]
      },
      {
       "output_type": "stream",
       "stream": "stdout",
       "text": [
        "\n",
        "stripe"
       ]
      },
      {
       "output_type": "stream",
       "stream": "stdout",
       "text": [
        "\n",
        "embark"
       ]
      },
      {
       "output_type": "stream",
       "stream": "stdout",
       "text": [
        "\n",
        "contestmachine"
       ]
      },
      {
       "output_type": "stream",
       "stream": "stdout",
       "text": [
        "\n",
        "yc s11 stealth - #63"
       ]
      },
      {
       "output_type": "stream",
       "stream": "stdout",
       "text": [
        "\n",
        "yc s11 stealth - #63 is fucked"
       ]
      },
      {
       "output_type": "stream",
       "stream": "stdout",
       "text": [
        "\n",
        "writewith\n",
        "mixpanel"
       ]
      },
      {
       "output_type": "stream",
       "stream": "stdout",
       "text": [
        "\n",
        "listia"
       ]
      },
      {
       "output_type": "stream",
       "stream": "stdout",
       "text": [
        "\n",
        "startuply"
       ]
      },
      {
       "output_type": "stream",
       "stream": "stdout",
       "text": [
        "\n",
        "deluux"
       ]
      },
      {
       "output_type": "stream",
       "stream": "stdout",
       "text": [
        "\n",
        "chatterous"
       ]
      },
      {
       "output_type": "stream",
       "stream": "stdout",
       "text": [
        "\n",
        "justin.tv"
       ]
      },
      {
       "output_type": "stream",
       "stream": "stdout",
       "text": [
        "\n",
        "justin.tv is fucked"
       ]
      },
      {
       "output_type": "stream",
       "stream": "stdout",
       "text": [
        "\n",
        "plivo\n",
        "coderwall"
       ]
      },
      {
       "output_type": "stream",
       "stream": "stdout",
       "text": [
        "\n",
        "coinbase"
       ]
      },
      {
       "output_type": "stream",
       "stream": "stdout",
       "text": [
        "\n",
        "refer.ly"
       ]
      },
      {
       "output_type": "stream",
       "stream": "stdout",
       "text": [
        "\n",
        "refer.ly is fucked"
       ]
      },
      {
       "output_type": "stream",
       "stream": "stdout",
       "text": [
        "\n",
        "backlift\n",
        "dealupa"
       ]
      },
      {
       "output_type": "stream",
       "stream": "stdout",
       "text": [
        "\n",
        "zigfu"
       ]
      },
      {
       "output_type": "stream",
       "stream": "stdout",
       "text": [
        "\n",
        "can'twait"
       ]
      },
      {
       "output_type": "stream",
       "stream": "stdout",
       "text": [
        "\n",
        "tweetflow"
       ]
      },
      {
       "output_type": "stream",
       "stream": "stdout",
       "text": [
        "\n",
        "messageparty"
       ]
      },
      {
       "output_type": "stream",
       "stream": "stdout",
       "text": [
        "\n",
        "comprehend systems"
       ]
      },
      {
       "output_type": "stream",
       "stream": "stdout",
       "text": [
        "\n",
        "bridge"
       ]
      },
      {
       "output_type": "stream",
       "stream": "stdout",
       "text": [
        "\n",
        "userfox (prev. vimessa)"
       ]
      },
      {
       "output_type": "stream",
       "stream": "stdout",
       "text": [
        "\n",
        "userfox (prev. vimessa) is fucked"
       ]
      },
      {
       "output_type": "stream",
       "stream": "stdout",
       "text": [
        "\n",
        "circuithub\n",
        "jamglue"
       ]
      },
      {
       "output_type": "stream",
       "stream": "stdout",
       "text": [
        "\n",
        "airbnb"
       ]
      },
      {
       "output_type": "stream",
       "stream": "stdout",
       "text": [
        "\n",
        "fanchatter"
       ]
      },
      {
       "output_type": "stream",
       "stream": "stdout",
       "text": [
        "\n",
        "seeinginteractive"
       ]
      },
      {
       "output_type": "stream",
       "stream": "stdout",
       "text": [
        "\n",
        "koduco"
       ]
      },
      {
       "output_type": "stream",
       "stream": "stdout",
       "text": [
        "\n",
        "appharbor"
       ]
      },
      {
       "output_type": "stream",
       "stream": "stdout",
       "text": [
        "\n",
        "taskforce"
       ]
      },
      {
       "output_type": "stream",
       "stream": "stdout",
       "text": [
        "\n",
        "earbits"
       ]
      },
      {
       "output_type": "stream",
       "stream": "stdout",
       "text": [
        "\n",
        "memsql"
       ]
      },
      {
       "output_type": "stream",
       "stream": "stdout",
       "text": [
        "\n",
        "bushido"
       ]
      },
      {
       "output_type": "stream",
       "stream": "stdout",
       "text": [
        "\n",
        "sellstage (now videopixie)"
       ]
      },
      {
       "output_type": "stream",
       "stream": "stdout",
       "text": [
        "\n",
        "giftrocket"
       ]
      },
      {
       "output_type": "stream",
       "stream": "stdout",
       "text": [
        "\n",
        "anyleaf"
       ]
      },
      {
       "output_type": "stream",
       "stream": "stdout",
       "text": [
        "\n",
        "gantto"
       ]
      },
      {
       "output_type": "stream",
       "stream": "stdout",
       "text": [
        "\n",
        "everyme"
       ]
      },
      {
       "output_type": "stream",
       "stream": "stdout",
       "text": [
        "\n",
        "snipshot"
       ]
      },
      {
       "output_type": "stream",
       "stream": "stdout",
       "text": [
        "\n",
        "clustrix"
       ]
      },
      {
       "output_type": "stream",
       "stream": "stdout",
       "text": [
        "\n",
        "kirkland north"
       ]
      },
      {
       "output_type": "stream",
       "stream": "stdout",
       "text": [
        "\n",
        "ididwork"
       ]
      },
      {
       "output_type": "stream",
       "stream": "stdout",
       "text": [
        "\n",
        "voxli"
       ]
      },
      {
       "output_type": "stream",
       "stream": "stdout",
       "text": [
        "\n",
        "wattvision"
       ]
      },
      {
       "output_type": "stream",
       "stream": "stdout",
       "text": [
        "\n",
        "directededge"
       ]
      },
      {
       "output_type": "stream",
       "stream": "stdout",
       "text": [
        "\n",
        "meetingmix"
       ]
      },
      {
       "output_type": "stream",
       "stream": "stdout",
       "text": [
        "\n",
        "carwoo"
       ]
      },
      {
       "output_type": "stream",
       "stream": "stdout",
       "text": [
        "\n",
        "browsarity"
       ]
      },
      {
       "output_type": "stream",
       "stream": "stdout",
       "text": [
        "\n",
        "hirehive"
       ]
      },
      {
       "output_type": "stream",
       "stream": "stdout",
       "text": [
        "\n",
        "hellofax"
       ]
      },
      {
       "output_type": "stream",
       "stream": "stdout",
       "text": [
        "\n",
        "hype"
       ]
      },
      {
       "output_type": "stream",
       "stream": "stdout",
       "text": [
        "\n",
        "paperlinks"
       ]
      },
      {
       "output_type": "stream",
       "stream": "stdout",
       "text": [
        "\n",
        "quartzy"
       ]
      },
      {
       "output_type": "stream",
       "stream": "stdout",
       "text": [
        "\n",
        "simperium"
       ]
      },
      {
       "output_type": "stream",
       "stream": "stdout",
       "text": [
        "\n",
        "interviewstreet"
       ]
      },
      {
       "output_type": "stream",
       "stream": "stdout",
       "text": [
        "\n",
        "hireart"
       ]
      },
      {
       "output_type": "stream",
       "stream": "stdout",
       "text": [
        "\n",
        "yc w12 stealth - #56"
       ]
      },
      {
       "output_type": "stream",
       "stream": "stdout",
       "text": [
        "\n",
        "yc w12 stealth - #56 is fucked"
       ]
      },
      {
       "output_type": "stream",
       "stream": "stdout",
       "text": [
        "\n",
        "simmery\n",
        "buxfer"
       ]
      },
      {
       "output_type": "stream",
       "stream": "stdout",
       "text": [
        "\n",
        "baseshield"
       ]
      },
      {
       "output_type": "stream",
       "stream": "stdout",
       "text": [
        "\n",
        "yumdots"
       ]
      },
      {
       "output_type": "stream",
       "stream": "stdout",
       "text": [
        "\n",
        "frogmetrics"
       ]
      },
      {
       "output_type": "stream",
       "stream": "stdout",
       "text": [
        "\n",
        "heyzap"
       ]
      },
      {
       "output_type": "stream",
       "stream": "stdout",
       "text": [
        "\n",
        "jobpic"
       ]
      },
      {
       "output_type": "stream",
       "stream": "stdout",
       "text": [
        "\n",
        "optimizely"
       ]
      },
      {
       "output_type": "stream",
       "stream": "stdout",
       "text": [
        "\n",
        "indinero"
       ]
      },
      {
       "output_type": "stream",
       "stream": "stdout",
       "text": [
        "\n",
        "whereoscope"
       ]
      },
      {
       "output_type": "stream",
       "stream": "stdout",
       "text": [
        "\n",
        "i move you"
       ]
      },
      {
       "output_type": "stream",
       "stream": "stdout",
       "text": [
        "\n",
        "yc s11 stealth - #57"
       ]
      },
      {
       "output_type": "stream",
       "stream": "stdout",
       "text": [
        "\n",
        "yc s11 stealth - #57 is fucked"
       ]
      },
      {
       "output_type": "stream",
       "stream": "stdout",
       "text": [
        "\n",
        "icracked\n",
        "sift science"
       ]
      },
      {
       "output_type": "stream",
       "stream": "stdout",
       "text": [
        "\n",
        "custora"
       ]
      },
      {
       "output_type": "stream",
       "stream": "stdout",
       "text": [
        "\n",
        "swiftype"
       ]
      },
      {
       "output_type": "stream",
       "stream": "stdout",
       "text": [
        "\n",
        "exec"
       ]
      },
      {
       "output_type": "stream",
       "stream": "stdout",
       "text": [
        "\n",
        "yc s11 stealth - #62"
       ]
      },
      {
       "output_type": "stream",
       "stream": "stdout",
       "text": [
        "\n",
        "yc s11 stealth - #62 is fucked"
       ]
      },
      {
       "output_type": "stream",
       "stream": "stdout",
       "text": [
        "\n",
        "yardsale\n",
        "b2brev"
       ]
      },
      {
       "output_type": "stream",
       "stream": "stdout",
       "text": [
        "\n",
        "acunote"
       ]
      },
      {
       "output_type": "stream",
       "stream": "stdout",
       "text": [
        "\n",
        "opzi"
       ]
      },
      {
       "output_type": "stream",
       "stream": "stdout",
       "text": [
        "\n",
        "shoptiques"
       ]
      },
      {
       "output_type": "stream",
       "stream": "stdout",
       "text": [
        "\n",
        "readyforzero"
       ]
      },
      {
       "output_type": "stream",
       "stream": "stdout",
       "text": [
        "\n",
        "zenedy"
       ]
      },
      {
       "output_type": "stream",
       "stream": "stdout",
       "text": [
        "\n",
        "tuxebo"
       ]
      },
      {
       "output_type": "stream",
       "stream": "stdout",
       "text": [
        "\n",
        "propable"
       ]
      },
      {
       "output_type": "stream",
       "stream": "stdout",
       "text": [
        "\n",
        "vidly / fliggo"
       ]
      },
      {
       "output_type": "stream",
       "stream": "stdout",
       "text": [
        "\n",
        "vidly / fliggo is fucked"
       ]
      },
      {
       "output_type": "stream",
       "stream": "stdout",
       "text": [
        "\n",
        "mightyquiz\n",
        "yc w12 stealth - #60"
       ]
      },
      {
       "output_type": "stream",
       "stream": "stdout",
       "text": [
        "\n",
        "yc w12 stealth - #60 is fucked"
       ]
      },
      {
       "output_type": "stream",
       "stream": "stdout",
       "text": [
        "\n",
        "yc w12 stealth - #64\n",
        "yc w12 stealth - #64 is fucked"
       ]
      },
      {
       "output_type": "stream",
       "stream": "stdout",
       "text": [
        "\n",
        "likebetter\n",
        "scribd"
       ]
      },
      {
       "output_type": "stream",
       "stream": "stdout",
       "text": [
        "\n",
        "fuzzwich"
       ]
      },
      {
       "output_type": "stream",
       "stream": "stdout",
       "text": [
        "\n",
        "biographicon"
       ]
      },
      {
       "output_type": "stream",
       "stream": "stdout",
       "text": [
        "\n",
        "leftronic"
       ]
      },
      {
       "output_type": "stream",
       "stream": "stdout",
       "text": [
        "\n",
        "people and pages"
       ]
      },
      {
       "output_type": "stream",
       "stream": "stdout",
       "text": [
        "\n",
        "foodoro"
       ]
      },
      {
       "output_type": "stream",
       "stream": "stdout",
       "text": [
        "\n",
        "nambii"
       ]
      },
      {
       "output_type": "stream",
       "stream": "stdout",
       "text": [
        "\n",
        "futureadvisor"
       ]
      },
      {
       "output_type": "stream",
       "stream": "stdout",
       "text": [
        "\n",
        "yc s10 stealth - #35"
       ]
      },
      {
       "output_type": "stream",
       "stream": "stdout",
       "text": [
        "\n",
        "yc s10 stealth - #35 is fucked"
       ]
      },
      {
       "output_type": "stream",
       "stream": "stdout",
       "text": [
        "\n",
        "lanyrd\n",
        "moki.tv"
       ]
      },
      {
       "output_type": "stream",
       "stream": "stdout",
       "text": [
        "\n",
        "moki.tv is fucked"
       ]
      },
      {
       "output_type": "stream",
       "stream": "stdout",
       "text": [
        "\n",
        "mixrank\n",
        "verbling"
       ]
      },
      {
       "output_type": "stream",
       "stream": "stdout",
       "text": [
        "\n",
        "tagstand"
       ]
      },
      {
       "output_type": "stream",
       "stream": "stdout",
       "text": [
        "\n",
        "dropbox"
       ]
      },
      {
       "output_type": "stream",
       "stream": "stdout",
       "text": [
        "\n",
        "bountii"
       ]
      },
      {
       "output_type": "stream",
       "stream": "stdout",
       "text": [
        "\n",
        "octopart"
       ]
      },
      {
       "output_type": "stream",
       "stream": "stdout",
       "text": [
        "\n",
        "ohlife"
       ]
      },
      {
       "output_type": "stream",
       "stream": "stdout",
       "text": [
        "\n",
        "ijigg"
       ]
      },
      {
       "output_type": "stream",
       "stream": "stdout",
       "text": [
        "\n",
        "ninite"
       ]
      },
      {
       "output_type": "stream",
       "stream": "stdout",
       "text": [
        "\n",
        "popcuts"
       ]
      },
      {
       "output_type": "stream",
       "stream": "stdout",
       "text": [
        "\n",
        "co2stats"
       ]
      },
      {
       "output_type": "stream",
       "stream": "stdout",
       "text": [
        "\n",
        "thesixtyone"
       ]
      },
      {
       "output_type": "stream",
       "stream": "stdout",
       "text": [
        "\n",
        "renthop"
       ]
      },
      {
       "output_type": "stream",
       "stream": "stdout",
       "text": [
        "\n",
        "jobspice"
       ]
      },
      {
       "output_type": "stream",
       "stream": "stdout",
       "text": [
        "\n",
        "wakemate"
       ]
      },
      {
       "output_type": "stream",
       "stream": "stdout",
       "text": [
        "\n",
        "yc s09 stealth - #25"
       ]
      },
      {
       "output_type": "stream",
       "stream": "stdout",
       "text": [
        "\n",
        "yc s09 stealth - #25 is fucked"
       ]
      },
      {
       "output_type": "stream",
       "stream": "stdout",
       "text": [
        "\n",
        "notifo\n",
        "chromaom"
       ]
      },
      {
       "output_type": "stream",
       "stream": "stdout",
       "text": [
        "\n",
        "nowmov"
       ]
      },
      {
       "output_type": "stream",
       "stream": "stdout",
       "text": [
        "\n",
        "embedster"
       ]
      },
      {
       "output_type": "stream",
       "stream": "stdout",
       "text": [
        "\n",
        "500friends"
       ]
      },
      {
       "output_type": "stream",
       "stream": "stdout",
       "text": [
        "\n",
        "tapzilla"
       ]
      },
      {
       "output_type": "stream",
       "stream": "stdout",
       "text": [
        "\n",
        "audiobeta"
       ]
      },
      {
       "output_type": "stream",
       "stream": "stdout",
       "text": [
        "\n",
        "workflowy"
       ]
      },
      {
       "output_type": "stream",
       "stream": "stdout",
       "text": [
        "\n",
        "yougotlistings"
       ]
      },
      {
       "output_type": "stream",
       "stream": "stdout",
       "text": [
        "\n",
        "whereberry"
       ]
      },
      {
       "output_type": "stream",
       "stream": "stdout",
       "text": [
        "\n",
        "balanced payments"
       ]
      },
      {
       "output_type": "stream",
       "stream": "stdout",
       "text": [
        "\n",
        "kicksend"
       ]
      },
      {
       "output_type": "stream",
       "stream": "stdout",
       "text": [
        "\n",
        "citus data"
       ]
      },
      {
       "output_type": "stream",
       "stream": "stdout",
       "text": [
        "\n",
        "clerky"
       ]
      },
      {
       "output_type": "stream",
       "stream": "stdout",
       "text": [
        "\n",
        "yc s11 stealth - #58"
       ]
      },
      {
       "output_type": "stream",
       "stream": "stdout",
       "text": [
        "\n",
        "yc s11 stealth - #58 is fucked"
       ]
      },
      {
       "output_type": "stream",
       "stream": "stdout",
       "text": [
        "\n",
        "thedailymuse\n",
        "lvl6"
       ]
      },
      {
       "output_type": "stream",
       "stream": "stdout",
       "text": [
        "\n",
        "cube"
       ]
      },
      {
       "output_type": "stream",
       "stream": "stdout",
       "text": [
        "\n",
        "yc w12 stealth - #58"
       ]
      },
      {
       "output_type": "stream",
       "stream": "stdout",
       "text": [
        "\n",
        "yc w12 stealth - #58 is fucked"
       ]
      },
      {
       "output_type": "stream",
       "stream": "stdout",
       "text": [
        "\n",
        "parallel universe\n",
        "inklingmarkets"
       ]
      },
      {
       "output_type": "stream",
       "stream": "stdout",
       "text": [
        "\n",
        "ginzametrics"
       ]
      },
      {
       "output_type": "stream",
       "stream": "stdout",
       "text": [
        "\n",
        "immunity project"
       ]
      },
      {
       "output_type": "stream",
       "stream": "stdout",
       "text": [
        "\n",
        "crowdbooster"
       ]
      },
      {
       "output_type": "stream",
       "stream": "stdout",
       "text": [
        "\n",
        "errplane"
       ]
      },
      {
       "output_type": "stream",
       "stream": "stdout",
       "text": [
        "\n",
        "paytango"
       ]
      },
      {
       "output_type": "stream",
       "stream": "stdout",
       "text": [
        "\n",
        "bitnami"
       ]
      },
      {
       "output_type": "stream",
       "stream": "stdout",
       "text": [
        "\n",
        "prizeo"
       ]
      },
      {
       "output_type": "stream",
       "stream": "stdout",
       "text": [
        "\n",
        "goldbely"
       ]
      },
      {
       "output_type": "stream",
       "stream": "stdout",
       "text": [
        "\n",
        "posmetrics"
       ]
      },
      {
       "output_type": "stream",
       "stream": "stdout",
       "text": [
        "\n",
        "posmetrics is fucked"
       ]
      },
      {
       "output_type": "stream",
       "stream": "stdout",
       "text": [
        "\n",
        "terascore\n",
        "circuitlab"
       ]
      },
      {
       "output_type": "stream",
       "stream": "stdout",
       "text": [
        "\n",
        "medisas"
       ]
      },
      {
       "output_type": "stream",
       "stream": "stdout",
       "text": [
        "\n",
        "teespring"
       ]
      },
      {
       "output_type": "stream",
       "stream": "stdout",
       "text": [
        "\n",
        "padlet"
       ]
      },
      {
       "output_type": "stream",
       "stream": "stdout",
       "text": [
        "\n",
        "lollipuff"
       ]
      },
      {
       "output_type": "stream",
       "stream": "stdout",
       "text": [
        "\n",
        "buildzoom"
       ]
      },
      {
       "output_type": "stream",
       "stream": "stdout",
       "text": [
        "\n",
        "swapbox"
       ]
      },
      {
       "output_type": "stream",
       "stream": "stdout",
       "text": [
        "\n",
        "lawdingo"
       ]
      },
      {
       "output_type": "stream",
       "stream": "stdout",
       "text": [
        "\n",
        "yc w13 stealth - #43"
       ]
      },
      {
       "output_type": "stream",
       "stream": "stdout",
       "text": [
        "\n",
        "yc w13 stealth - #43 is fucked"
       ]
      },
      {
       "output_type": "stream",
       "stream": "stdout",
       "text": [
        "\n",
        "yc w13 stealth - #42\n",
        "yc w13 stealth - #42 is fucked"
       ]
      },
      {
       "output_type": "stream",
       "stream": "stdout",
       "text": [
        "\n",
        "styleup\n",
        "butter systems"
       ]
      },
      {
       "output_type": "stream",
       "stream": "stdout",
       "text": [
        "\n",
        "standard treasury"
       ]
      },
      {
       "output_type": "stream",
       "stream": "stdout",
       "text": [
        "\n",
        "yc w13 stealth - #47"
       ]
      },
      {
       "output_type": "stream",
       "stream": "stdout",
       "text": [
        "\n",
        "yc w13 stealth - #47 is fucked"
       ]
      },
      {
       "output_type": "stream",
       "stream": "stdout",
       "text": [
        "\n",
        "yc w13 stealth - #45\n",
        "yc w13 stealth - #45 is fucked"
       ]
      },
      {
       "output_type": "stream",
       "stream": "stdout",
       "text": [
        "\n",
        "yc w13 stealth - #44\n",
        "yc w13 stealth - #44 is fucked"
       ]
      },
      {
       "output_type": "stream",
       "stream": "stdout",
       "text": [
        "\n",
        "yc w13 stealth - #39\n",
        "yc w13 stealth - #39 is fucked"
       ]
      },
      {
       "output_type": "stream",
       "stream": "stdout",
       "text": [
        "\n",
        "yc w13 stealth - #37\n",
        "yc w13 stealth - #37 is fucked"
       ]
      },
      {
       "output_type": "stream",
       "stream": "stdout",
       "text": [
        "\n",
        "yc w13 stealth - #40\n",
        "yc w13 stealth - #40 is fucked"
       ]
      },
      {
       "output_type": "stream",
       "stream": "stdout",
       "text": [
        "\n",
        "yc w13 stealth - #46\n",
        "yc w13 stealth - #46 is fucked"
       ]
      },
      {
       "output_type": "stream",
       "stream": "stdout",
       "text": [
        "\n",
        "heap analytics\n",
        "yc w13 stealth - #38"
       ]
      },
      {
       "output_type": "stream",
       "stream": "stdout",
       "text": [
        "\n",
        "yc w13 stealth - #38 is fucked"
       ]
      },
      {
       "output_type": "stream",
       "stream": "stdout",
       "text": [
        "\n",
        "crowdmed\n",
        "yc w13 stealth - #41"
       ]
      },
      {
       "output_type": "stream",
       "stream": "stdout",
       "text": [
        "\n",
        "yc w13 stealth - #41 is fucked"
       ]
      },
      {
       "output_type": "stream",
       "stream": "stdout",
       "text": [
        "\n",
        "zaranga\n",
        "airware"
       ]
      },
      {
       "output_type": "stream",
       "stream": "stdout",
       "text": [
        "\n",
        "fivetran"
       ]
      },
      {
       "output_type": "stream",
       "stream": "stdout",
       "text": [
        "\n",
        "wefunder"
       ]
      },
      {
       "output_type": "stream",
       "stream": "stdout",
       "text": [
        "\n",
        "tomoguides"
       ]
      },
      {
       "output_type": "stream",
       "stream": "stdout",
       "text": [
        "\n",
        "yc s12 stealth - #78"
       ]
      },
      {
       "output_type": "stream",
       "stream": "stdout",
       "text": [
        "\n",
        "yc s12 stealth - #78 is fucked"
       ]
      },
      {
       "output_type": "stream",
       "stream": "stdout",
       "text": [
        "\n",
        "yc s12 stealth - #71\n",
        "yc s12 stealth - #71 is fucked"
       ]
      },
      {
       "output_type": "stream",
       "stream": "stdout",
       "text": [
        "\n",
        "yc s12 stealth - #81\n",
        "yc s12 stealth - #81 is fucked"
       ]
      },
      {
       "output_type": "stream",
       "stream": "stdout",
       "text": [
        "\n",
        "yc s12 stealth - #82\n",
        "yc s12 stealth - #82 is fucked"
       ]
      },
      {
       "output_type": "stream",
       "stream": "stdout",
       "text": [
        "\n",
        "yc s12 stealth - #79\n",
        "yc s12 stealth - #79 is fucked"
       ]
      },
      {
       "output_type": "stream",
       "stream": "stdout",
       "text": [
        "\n",
        "yc s12 stealth - #84\n",
        "yc s12 stealth - #84 is fucked"
       ]
      },
      {
       "output_type": "stream",
       "stream": "stdout",
       "text": [
        "\n",
        "yc s12 stealth - #80\n",
        "yc s12 stealth - #80 is fucked"
       ]
      },
      {
       "output_type": "stream",
       "stream": "stdout",
       "text": [
        "\n",
        "yc s12 stealth - #69\n",
        "yc s12 stealth - #69 is fucked"
       ]
      },
      {
       "output_type": "stream",
       "stream": "stdout",
       "text": [
        "\n",
        "yc s12 stealth - #72\n",
        "yc s12 stealth - #72 is fucked"
       ]
      },
      {
       "output_type": "stream",
       "stream": "stdout",
       "text": [
        "\n",
        "yc s12 stealth - #70\n",
        "yc s12 stealth - #70 is fucked"
       ]
      },
      {
       "output_type": "stream",
       "stream": "stdout",
       "text": [
        "\n",
        "yc s12 stealth - #73\n",
        "yc s12 stealth - #73 is fucked"
       ]
      },
      {
       "output_type": "stream",
       "stream": "stdout",
       "text": [
        "\n",
        "yc s12 stealth - #74\n",
        "yc s12 stealth - #74 is fucked"
       ]
      },
      {
       "output_type": "stream",
       "stream": "stdout",
       "text": [
        "\n",
        "grouper\n",
        "boostedboards"
       ]
      },
      {
       "output_type": "stream",
       "stream": "stdout",
       "text": [
        "\n",
        "circular"
       ]
      },
      {
       "output_type": "stream",
       "stream": "stdout",
       "text": [
        "\n",
        "yc s12 stealth - #77"
       ]
      },
      {
       "output_type": "stream",
       "stream": "stdout",
       "text": [
        "\n",
        "yc s12 stealth - #77 is fucked"
       ]
      },
      {
       "output_type": "stream",
       "stream": "stdout",
       "text": [
        "\n",
        "yc s12 stealth - #68\n",
        "yc s12 stealth - #68 is fucked"
       ]
      },
      {
       "output_type": "stream",
       "stream": "stdout",
       "text": [
        "\n",
        "simplyinsured\n",
        "flightcar"
       ]
      },
      {
       "output_type": "stream",
       "stream": "stdout",
       "text": [
        "\n",
        "experiment (prev. microryza)"
       ]
      },
      {
       "output_type": "stream",
       "stream": "stdout",
       "text": [
        "\n",
        "experiment (prev. microryza) is fucked"
       ]
      },
      {
       "output_type": "stream",
       "stream": "stdout",
       "text": [
        "\n",
        "semantics3\n",
        "thalmic labs (myo)"
       ]
      },
      {
       "output_type": "stream",
       "stream": "stdout",
       "text": [
        "\n",
        "meldium"
       ]
      },
      {
       "output_type": "stream",
       "stream": "stdout",
       "text": [
        "\n",
        "zenefits"
       ]
      },
      {
       "output_type": "stream",
       "stream": "stdout",
       "text": [
        "\n",
        "screenhero"
       ]
      },
      {
       "output_type": "stream",
       "stream": "stdout",
       "text": [
        "\n",
        "strikingly"
       ]
      },
      {
       "output_type": "stream",
       "stream": "stdout",
       "text": [
        "\n",
        "yc s12 stealth - #75"
       ]
      },
      {
       "output_type": "stream",
       "stream": "stdout",
       "text": [
        "\n",
        "yc s12 stealth - #75 is fucked"
       ]
      },
      {
       "output_type": "stream",
       "stream": "stdout",
       "text": [
        "\n",
        "wevorce\n",
        "swish"
       ]
      },
      {
       "output_type": "stream",
       "stream": "stdout",
       "text": [
        "\n",
        "watsi"
       ]
      },
      {
       "output_type": "stream",
       "stream": "stdout",
       "text": [
        "\n",
        "svbtle"
       ]
      },
      {
       "output_type": "stream",
       "stream": "stdout",
       "text": [
        "\n",
        "yc s12 stealth - #83"
       ]
      },
      {
       "output_type": "stream",
       "stream": "stdout",
       "text": [
        "\n",
        "yc s12 stealth - #83 is fucked"
       ]
      },
      {
       "output_type": "stream",
       "stream": "stdout",
       "text": [
        "\n",
        "yc s12 stealth - #76\n",
        "yc s12 stealth - #76 is fucked"
       ]
      },
      {
       "output_type": "stream",
       "stream": "stdout",
       "text": [
        "\n",
        "apptimize\n",
        "easypost"
       ]
      },
      {
       "output_type": "stream",
       "stream": "stdout",
       "text": [
        "\n",
        "spoonrocket"
       ]
      },
      {
       "output_type": "stream",
       "stream": "stdout",
       "text": [
        "\n",
        "yc s13 stealth - #48"
       ]
      },
      {
       "output_type": "stream",
       "stream": "stdout",
       "text": [
        "\n",
        "yc s13 stealth - #48 is fucked"
       ]
      },
      {
       "output_type": "stream",
       "stream": "stdout",
       "text": [
        "\n",
        "airpair\n",
        "ambition"
       ]
      },
      {
       "output_type": "stream",
       "stream": "stdout",
       "text": [
        "\n",
        "yc s13 stealth - #52"
       ]
      },
      {
       "output_type": "stream",
       "stream": "stdout",
       "text": [
        "\n",
        "yc s13 stealth - #52 is fucked"
       ]
      },
      {
       "output_type": "stream",
       "stream": "stdout",
       "text": [
        "\n",
        "yc s13 stealth - #53\n",
        "yc s13 stealth - #53 is fucked"
       ]
      },
      {
       "output_type": "stream",
       "stream": "stdout",
       "text": [
        "\n",
        "yc s13 stealth - #51\n",
        "yc s13 stealth - #51 is fucked"
       ]
      },
      {
       "output_type": "stream",
       "stream": "stdout",
       "text": [
        "\n",
        "yc s13 stealth - #49\n",
        "yc s13 stealth - #49 is fucked"
       ]
      },
      {
       "output_type": "stream",
       "stream": "stdout",
       "text": [
        "\n",
        "yc s13 stealth - #50\n",
        "yc s13 stealth - #50 is fucked"
       ]
      },
      {
       "output_type": "stream",
       "stream": "stdout",
       "text": [
        "\n",
        "nan\n",
        "lumoid"
       ]
      },
      {
       "output_type": "stream",
       "stream": "stdout",
       "text": [
        "\n",
        "coreos"
       ]
      },
      {
       "output_type": "stream",
       "stream": "stdout",
       "text": [
        "\n",
        "buttercoin"
       ]
      },
      {
       "output_type": "stream",
       "stream": "stdout",
       "text": [
        "\n",
        "regalii"
       ]
      },
      {
       "output_type": "stream",
       "stream": "stdout",
       "text": [
        "\n",
        "hum"
       ]
      },
      {
       "output_type": "stream",
       "stream": "stdout",
       "text": [
        "\n",
        "teleborder"
       ]
      },
      {
       "output_type": "stream",
       "stream": "stdout",
       "text": [
        "\n",
        "beacon"
       ]
      },
      {
       "output_type": "stream",
       "stream": "stdout",
       "text": [
        "\n",
        "taplytics"
       ]
      },
      {
       "output_type": "stream",
       "stream": "stdout",
       "text": [
        "\n",
        "realcrowd"
       ]
      },
      {
       "output_type": "stream",
       "stream": "stdout",
       "text": [
        "\n",
        "rocketrip"
       ]
      },
      {
       "output_type": "stream",
       "stream": "stdout",
       "text": [
        "\n",
        "zowpow"
       ]
      },
      {
       "output_type": "stream",
       "stream": "stdout",
       "text": [
        "\n",
        "the dating ring"
       ]
      },
      {
       "output_type": "stream",
       "stream": "stdout",
       "text": [
        "\n",
        "framed data"
       ]
      },
      {
       "output_type": "stream",
       "stream": "stdout",
       "text": [
        "\n",
        "superhost"
       ]
      },
      {
       "output_type": "stream",
       "stream": "stdout",
       "text": [
        "\n",
        "zidisha"
       ]
      },
      {
       "output_type": "stream",
       "stream": "stdout",
       "text": [
        "\n",
        "truevault"
       ]
      },
      {
       "output_type": "stream",
       "stream": "stdout",
       "text": [
        "\n",
        "terravion"
       ]
      },
      {
       "output_type": "stream",
       "stream": "stdout",
       "text": [
        "\n",
        "abacus"
       ]
      },
      {
       "output_type": "stream",
       "stream": "stdout",
       "text": [
        "\n",
        "eventjoy"
       ]
      },
      {
       "output_type": "stream",
       "stream": "stdout",
       "text": [
        "\n",
        "weave"
       ]
      },
      {
       "output_type": "stream",
       "stream": "stdout",
       "text": [
        "\n",
        "sendwithus"
       ]
      },
      {
       "output_type": "stream",
       "stream": "stdout",
       "text": [
        "\n",
        "algolia"
       ]
      },
      {
       "output_type": "stream",
       "stream": "stdout",
       "text": [
        "\n",
        "cambly"
       ]
      },
      {
       "output_type": "stream",
       "stream": "stdout",
       "text": [
        "\n",
        "move loot"
       ]
      },
      {
       "output_type": "stream",
       "stream": "stdout",
       "text": [
        "\n",
        "reebee"
       ]
      },
      {
       "output_type": "stream",
       "stream": "stdout",
       "text": [
        "\n",
        "urx"
       ]
      },
      {
       "output_type": "stream",
       "stream": "stdout",
       "text": [
        "\n",
        "panorama education"
       ]
      },
      {
       "output_type": "stream",
       "stream": "stdout",
       "text": [
        "\n",
        "doordash"
       ]
      },
      {
       "output_type": "stream",
       "stream": "stdout",
       "text": [
        "\n",
        "kivo"
       ]
      },
      {
       "output_type": "stream",
       "stream": "stdout",
       "text": [
        "\n",
        "one month rails"
       ]
      },
      {
       "output_type": "stream",
       "stream": "stdout",
       "text": [
        "\n",
        "7 cups of tea"
       ]
      },
      {
       "output_type": "stream",
       "stream": "stdout",
       "text": [
        "\n",
        "true link financial"
       ]
      },
      {
       "output_type": "stream",
       "stream": "stdout",
       "text": [
        "\n",
        "le tote"
       ]
      },
      {
       "output_type": "stream",
       "stream": "stdout",
       "text": [
        "\n",
        "floobits"
       ]
      },
      {
       "output_type": "stream",
       "stream": "stdout",
       "text": [
        "\n",
        "lob"
       ]
      },
      {
       "output_type": "stream",
       "stream": "stdout",
       "text": [
        "\n",
        "crowdery"
       ]
      },
      {
       "output_type": "stream",
       "stream": "stdout",
       "text": [
        "\n",
        "datarank"
       ]
      },
      {
       "output_type": "stream",
       "stream": "stdout",
       "text": [
        "\n",
        "prim"
       ]
      },
      {
       "output_type": "stream",
       "stream": "stdout",
       "text": [
        "\n",
        "orbsccg"
       ]
      },
      {
       "output_type": "stream",
       "stream": "stdout",
       "text": [
        "\n",
        "statuspage"
       ]
      },
      {
       "output_type": "stream",
       "stream": "stdout",
       "text": [
        "\n",
        "fanhero"
       ]
      },
      {
       "output_type": "stream",
       "stream": "stdout",
       "text": [
        "\n",
        "estimote"
       ]
      },
      {
       "output_type": "stream",
       "stream": "stdout",
       "text": [
        "\n",
        "webflow"
       ]
      },
      {
       "output_type": "stream",
       "stream": "stdout",
       "text": [
        "\n",
        "simplelegal"
       ]
      },
      {
       "output_type": "stream",
       "stream": "stdout",
       "text": [
        "\n",
        "glio"
       ]
      },
      {
       "output_type": "stream",
       "stream": "stdout",
       "text": [
        "\n",
        "watchsend"
       ]
      },
      {
       "output_type": "stream",
       "stream": "stdout",
       "text": [
        "\n",
        "senic"
       ]
      },
      {
       "output_type": "stream",
       "stream": "stdout",
       "text": [
        "\n",
        "localon"
       ]
      },
      {
       "output_type": "stream",
       "stream": "stdout",
       "text": [
        "\n",
        "meta space glasses"
       ]
      },
      {
       "output_type": "stream",
       "stream": "stdout",
       "text": [
        "\n",
        "casetext"
       ]
      },
      {
       "output_type": "stream",
       "stream": "stdout",
       "text": [
        "\n",
        "gocomm"
       ]
      },
      {
       "output_type": "stream",
       "stream": "stdout",
       "text": [
        "\n",
        "soundfocus"
       ]
      },
      {
       "output_type": "stream",
       "stream": "stdout",
       "text": [
        "\n",
        "ixi-play"
       ]
      },
      {
       "output_type": "stream",
       "stream": "stdout",
       "text": [
        "\n",
        "weilos"
       ]
      },
      {
       "output_type": "stream",
       "stream": "stdout",
       "text": [
        "\n",
        "toutpost"
       ]
      },
      {
       "output_type": "stream",
       "stream": "stdout",
       "text": [
        "\n",
        "bloomthat"
       ]
      },
      {
       "output_type": "stream",
       "stream": "stdout",
       "text": [
        "\n",
        "graft concepts"
       ]
      },
      {
       "output_type": "stream",
       "stream": "stdout",
       "text": [
        "\n",
        "amulyte"
       ]
      },
      {
       "output_type": "stream",
       "stream": "stdout",
       "text": [
        "\n",
        "asseta"
       ]
      },
      {
       "output_type": "stream",
       "stream": "stdout",
       "text": [
        "\n",
        "studyedge"
       ]
      },
      {
       "output_type": "stream",
       "stream": "stdout",
       "text": [
        "\n",
        "bigcalc"
       ]
      },
      {
       "output_type": "stream",
       "stream": "stdout",
       "text": [
        "\n",
        "aerofs"
       ]
      },
      {
       "output_type": "stream",
       "stream": "stdout",
       "text": [
        "\n",
        "view3"
       ]
      },
      {
       "output_type": "stream",
       "stream": "stdout",
       "text": [
        "\n",
        "answerly.com"
       ]
      },
      {
       "output_type": "stream",
       "stream": "stdout",
       "text": [
        "\n",
        "answerly.com is fucked"
       ]
      },
      {
       "output_type": "stream",
       "stream": "stdout",
       "text": [
        "\n",
        "urbantakeover\n",
        "scoopler"
       ]
      },
      {
       "output_type": "stream",
       "stream": "stdout",
       "text": [
        "\n",
        "anyvite"
       ]
      },
      {
       "output_type": "stream",
       "stream": "stdout",
       "text": [
        "\n",
        "insoshi"
       ]
      },
      {
       "output_type": "stream",
       "stream": "stdout",
       "text": [
        "\n",
        "tipjoy"
       ]
      },
      {
       "output_type": "stream",
       "stream": "stdout",
       "text": [
        "\n",
        "virtualmin"
       ]
      },
      {
       "output_type": "stream",
       "stream": "stdout",
       "text": [
        "\n",
        "dotcloud"
       ]
      },
      {
       "output_type": "stream",
       "stream": "stdout",
       "text": [
        "\n",
        "shoutfit"
       ]
      },
      {
       "output_type": "stream",
       "stream": "stdout",
       "text": [
        "\n",
        "pollground"
       ]
      },
      {
       "output_type": "stream",
       "stream": "stdout",
       "text": [
        "\n",
        "zapier"
       ]
      },
      {
       "output_type": "stream",
       "stream": "stdout",
       "text": [
        "\n",
        "lighttable"
       ]
      },
      {
       "output_type": "stream",
       "stream": "stdout",
       "text": [
        "\n",
        "instantcab"
       ]
      },
      {
       "output_type": "stream",
       "stream": "stdout",
       "text": [
        "\n",
        "pixelapse"
       ]
      },
      {
       "output_type": "stream",
       "stream": "stdout",
       "text": [
        "\n",
        "brushes"
       ]
      },
      {
       "output_type": "stream",
       "stream": "stdout",
       "text": [
        "\n",
        "like.fm"
       ]
      },
      {
       "output_type": "stream",
       "stream": "stdout",
       "text": [
        "\n",
        "like.fm is fucked"
       ]
      },
      {
       "output_type": "stream",
       "stream": "stdout",
       "text": [
        "\n",
        "pair\n",
        "42floors"
       ]
      },
      {
       "output_type": "stream",
       "stream": "stdout",
       "text": [
        "\n",
        "polleverywhere"
       ]
      },
      {
       "output_type": "stream",
       "stream": "stdout",
       "text": [
        "\n",
        "clickfacts"
       ]
      },
      {
       "output_type": "stream",
       "stream": "stdout",
       "text": [
        "\n",
        "filepicker.io"
       ]
      },
      {
       "output_type": "stream",
       "stream": "stdout",
       "text": [
        "\n",
        "filepicker.io is fucked"
       ]
      },
      {
       "output_type": "stream",
       "stream": "stdout",
       "text": [
        "\n",
        "yc w12 stealth - #63\n",
        "yc w12 stealth - #63 is fucked"
       ]
      },
      {
       "output_type": "stream",
       "stream": "stdout",
       "text": [
        "\n",
        "yc w12 stealth - #61\n",
        "yc w12 stealth - #61 is fucked"
       ]
      },
      {
       "output_type": "stream",
       "stream": "stdout",
       "text": [
        "\n",
        "install monetizer\n",
        "screenleap"
       ]
      },
      {
       "output_type": "stream",
       "stream": "stdout",
       "text": [
        "\n",
        "five stars"
       ]
      },
      {
       "output_type": "stream",
       "stream": "stdout",
       "text": [
        "\n",
        "yc s11 stealth - #56"
       ]
      },
      {
       "output_type": "stream",
       "stream": "stdout",
       "text": [
        "\n",
        "yc s11 stealth - #56 is fucked"
       ]
      },
      {
       "output_type": "stream",
       "stream": "stdout",
       "text": [
        "\n",
        "streak.com\n",
        "streak.com is fucked"
       ]
      },
      {
       "output_type": "stream",
       "stream": "stdout",
       "text": [
        "\n",
        "science exchange\n",
        "freshplum"
       ]
      },
      {
       "output_type": "stream",
       "stream": "stdout",
       "text": [
        "\n",
        "yc w11 stealth - #45"
       ]
      },
      {
       "output_type": "stream",
       "stream": "stdout",
       "text": [
        "\n",
        "yc w11 stealth - #45 is fucked"
       ]
      },
      {
       "output_type": "stream",
       "stream": "stdout",
       "text": [
        "\n",
        "orderahead\n",
        "your mechanic"
       ]
      },
      {
       "output_type": "stream",
       "stream": "stdout",
       "text": [
        "\n",
        "loom (prev. popset)"
       ]
      },
      {
       "output_type": "stream",
       "stream": "stdout",
       "text": [
        "\n",
        "loom (prev. popset) is fucked"
       ]
      },
      {
       "output_type": "stream",
       "stream": "stdout",
       "text": [
        "\n",
        "dreamforge\n",
        "minefold"
       ]
      },
      {
       "output_type": "stream",
       "stream": "stdout",
       "text": [
        "\n",
        "yc w12 stealth - #55"
       ]
      },
      {
       "output_type": "stream",
       "stream": "stdout",
       "text": [
        "\n",
        "yc w12 stealth - #55 is fucked"
       ]
      },
      {
       "output_type": "stream",
       "stream": "stdout",
       "text": [
        "\n",
        "per vices\n",
        "zenpayroll"
       ]
      },
      {
       "output_type": "stream",
       "stream": "stdout",
       "text": [
        "\n",
        "matterport"
       ]
      },
      {
       "output_type": "stream",
       "stream": "stdout",
       "text": [
        "\n",
        "zillabyte"
       ]
      },
      {
       "output_type": "stream",
       "stream": "stdout",
       "text": [
        "\n",
        "priceonomics"
       ]
      },
      {
       "output_type": "stream",
       "stream": "stdout",
       "text": [
        "\n",
        "two tap"
       ]
      },
      {
       "output_type": "stream",
       "stream": "stdout",
       "text": [
        "\n",
        "jumpchat"
       ]
      },
      {
       "output_type": "stream",
       "stream": "stdout",
       "text": [
        "\n",
        "rentobo"
       ]
      },
      {
       "output_type": "stream",
       "stream": "stdout",
       "text": [
        "\n",
        "hyperink"
       ]
      },
      {
       "output_type": "stream",
       "stream": "stdout",
       "text": [
        "\n",
        "chirply"
       ]
      },
      {
       "output_type": "stream",
       "stream": "stdout",
       "text": [
        "\n",
        "grove"
       ]
      },
      {
       "output_type": "stream",
       "stream": "stdout",
       "text": [
        "\n",
        "tutorspree"
       ]
      },
      {
       "output_type": "stream",
       "stream": "stdout",
       "text": [
        "\n",
        "grubwithus"
       ]
      },
      {
       "output_type": "stream",
       "stream": "stdout",
       "text": [
        "\n",
        "yc w12 stealth - #59"
       ]
      },
      {
       "output_type": "stream",
       "stream": "stdout",
       "text": [
        "\n",
        "yc w12 stealth - #59 is fucked"
       ]
      },
      {
       "output_type": "stream",
       "stream": "stdout",
       "text": [
        "\n",
        "songkick\n",
        "sendhub"
       ]
      },
      {
       "output_type": "stream",
       "stream": "stdout",
       "text": [
        "\n",
        "swagapalooza"
       ]
      },
      {
       "output_type": "stream",
       "stream": "stdout",
       "text": [
        "\n",
        "leaky"
       ]
      },
      {
       "output_type": "stream",
       "stream": "stdout",
       "text": [
        "\n",
        "interstate"
       ]
      },
      {
       "output_type": "stream",
       "stream": "stdout",
       "text": [
        "\n",
        "zerocater"
       ]
      },
      {
       "output_type": "stream",
       "stream": "stdout",
       "text": [
        "\n",
        "nowjs"
       ]
      },
      {
       "output_type": "stream",
       "stream": "stdout",
       "text": [
        "\n",
        "dr chrono"
       ]
      },
      {
       "output_type": "stream",
       "stream": "stdout",
       "text": [
        "\n",
        "hasfu"
       ]
      },
      {
       "output_type": "stream",
       "stream": "stdout",
       "text": [
        "\n",
        "rethinkdb"
       ]
      },
      {
       "output_type": "stream",
       "stream": "stdout",
       "text": [
        "\n",
        "splashup"
       ]
      },
      {
       "output_type": "stream",
       "stream": "stdout",
       "text": [
        "\n",
        "highlightcam"
       ]
      },
      {
       "output_type": "stream",
       "stream": "stdout",
       "text": [
        "\n",
        "skysheet"
       ]
      },
      {
       "output_type": "stream",
       "stream": "stdout",
       "text": [
        "\n",
        "ticketstumbler"
       ]
      },
      {
       "output_type": "stream",
       "stream": "stdout",
       "text": [
        "\n",
        "rescuetime"
       ]
      },
      {
       "output_type": "stream",
       "stream": "stdout",
       "text": [
        "\n",
        "webmynd"
       ]
      },
      {
       "output_type": "stream",
       "stream": "stdout",
       "text": [
        "\n",
        "reble"
       ]
      },
      {
       "output_type": "stream",
       "stream": "stdout",
       "text": [
        "\n",
        "contestmachine"
       ]
      },
      {
       "output_type": "stream",
       "stream": "stdout",
       "text": [
        "\n",
        "snipd"
       ]
      },
      {
       "output_type": "stream",
       "stream": "stdout",
       "text": [
        "\n",
        "yc stealth yc s08 #24"
       ]
      },
      {
       "output_type": "stream",
       "stream": "stdout",
       "text": [
        "\n",
        "yc stealth yc s08 #24 is fucked"
       ]
      },
      {
       "output_type": "stream",
       "stream": "stdout",
       "text": [
        "\n",
        "canopy labs\n",
        "registrylove"
       ]
      },
      {
       "output_type": "stream",
       "stream": "stdout",
       "text": [
        "\n",
        "knowmia"
       ]
      },
      {
       "output_type": "stream",
       "stream": "stdout",
       "text": [
        "\n",
        "easel"
       ]
      },
      {
       "output_type": "stream",
       "stream": "stdout",
       "text": [
        "\n",
        "imgfave"
       ]
      },
      {
       "output_type": "stream",
       "stream": "stdout",
       "text": [
        "\n",
        "amicus"
       ]
      },
      {
       "output_type": "stream",
       "stream": "stdout",
       "text": [
        "\n",
        "reelsurfer"
       ]
      },
      {
       "output_type": "stream",
       "stream": "stdout",
       "text": [
        "\n",
        "hiptype"
       ]
      },
      {
       "output_type": "stream",
       "stream": "stdout",
       "text": [
        "\n",
        "himom"
       ]
      },
      {
       "output_type": "stream",
       "stream": "stdout",
       "text": [
        "\n",
        "datanitro"
       ]
      },
      {
       "output_type": "stream",
       "stream": "stdout",
       "text": [
        "\n",
        "scoutzie"
       ]
      },
      {
       "output_type": "stream",
       "stream": "stdout",
       "text": [
        "\n",
        "grid"
       ]
      },
      {
       "output_type": "stream",
       "stream": "stdout",
       "text": [
        "\n",
        "fundersclub"
       ]
      },
      {
       "output_type": "stream",
       "stream": "stdout",
       "text": [
        "\n",
        "tracks.by"
       ]
      },
      {
       "output_type": "stream",
       "stream": "stdout",
       "text": [
        "\n",
        "tracks.by is fucked"
       ]
      },
      {
       "output_type": "stream",
       "stream": "stdout",
       "text": [
        "\n",
        "spinpunch\n",
        "tastemaker"
       ]
      },
      {
       "output_type": "stream",
       "stream": "stdout",
       "text": [
        "\n",
        "coco controller"
       ]
      },
      {
       "output_type": "stream",
       "stream": "stdout",
       "text": [
        "\n",
        "[???] pocketfungames"
       ]
      },
      {
       "output_type": "stream",
       "stream": "stdout",
       "text": [
        "\n",
        "[???] pocketfungames is fucked"
       ]
      },
      {
       "output_type": "stream",
       "stream": "stdout",
       "text": [
        "\n",
        "keychain logistics\n",
        "eligible"
       ]
      },
      {
       "output_type": "stream",
       "stream": "stdout",
       "text": [
        "\n",
        "rent.io"
       ]
      },
      {
       "output_type": "stream",
       "stream": "stdout",
       "text": [
        "\n",
        "rent.io is fucked"
       ]
      },
      {
       "output_type": "stream",
       "stream": "stdout",
       "text": [
        "\n",
        "hubchilla\n",
        "submittable"
       ]
      },
      {
       "output_type": "stream",
       "stream": "stdout",
       "text": [
        "\n",
        "airbrite"
       ]
      },
      {
       "output_type": "stream",
       "stream": "stdout",
       "text": [
        "\n",
        "getgoing"
       ]
      },
      {
       "output_type": "stream",
       "stream": "stdout",
       "text": [
        "\n",
        "healthy labs"
       ]
      },
      {
       "output_type": "stream",
       "stream": "stdout",
       "text": [
        "\n",
        "profig"
       ]
      },
      {
       "output_type": "stream",
       "stream": "stdout",
       "text": [
        "\n",
        "9gag"
       ]
      },
      {
       "output_type": "stream",
       "stream": "stdout",
       "text": [
        "\n",
        "mth sense"
       ]
      },
      {
       "output_type": "stream",
       "stream": "stdout",
       "text": [
        "\n",
        "survata"
       ]
      },
      {
       "output_type": "stream",
       "stream": "stdout",
       "text": [
        "\n",
        "hd trade services"
       ]
      },
      {
       "output_type": "stream",
       "stream": "stdout",
       "text": [
        "\n",
        "markupwand"
       ]
      },
      {
       "output_type": "stream",
       "stream": "stdout",
       "text": [
        "\n",
        "collections"
       ]
      },
      {
       "output_type": "stream",
       "stream": "stdout",
       "text": [
        "\n",
        "tapin"
       ]
      },
      {
       "output_type": "stream",
       "stream": "stdout",
       "text": [
        "\n",
        "vayable"
       ]
      },
      {
       "output_type": "stream",
       "stream": "stdout",
       "text": [
        "\n",
        "statwing"
       ]
      },
      {
       "output_type": "stream",
       "stream": "stdout",
       "text": [
        "\n",
        "upverter"
       ]
      },
      {
       "output_type": "stream",
       "stream": "stdout",
       "text": [
        "\n",
        "99dresses"
       ]
      },
      {
       "output_type": "stream",
       "stream": "stdout",
       "text": [
        "\n",
        "flypad"
       ]
      },
      {
       "output_type": "stream",
       "stream": "stdout",
       "text": [
        "\n",
        "rapgenius"
       ]
      },
      {
       "output_type": "stream",
       "stream": "stdout",
       "text": [
        "\n",
        "gocardless"
       ]
      },
      {
       "output_type": "stream",
       "stream": "stdout",
       "text": [
        "\n",
        "proxino"
       ]
      },
      {
       "output_type": "stream",
       "stream": "stdout",
       "text": [
        "\n",
        "firebase (prev. envolve)"
       ]
      },
      {
       "output_type": "stream",
       "stream": "stdout",
       "text": [
        "\n",
        "firebase (prev. envolve) is fucked"
       ]
      },
      {
       "output_type": "stream",
       "stream": "stdout",
       "text": [
        "\n",
        "beetailer\n",
        "microeval"
       ]
      },
      {
       "output_type": "stream",
       "stream": "stdout",
       "text": [
        "\n",
        "homejoy"
       ]
      },
      {
       "output_type": "stream",
       "stream": "stdout",
       "text": [
        "\n",
        "pagerduty"
       ]
      },
      {
       "output_type": "stream",
       "stream": "stdout",
       "text": [
        "\n",
        "embedly"
       ]
      },
      {
       "output_type": "stream",
       "stream": "stdout",
       "text": [
        "\n",
        "launchhear"
       ]
      },
      {
       "output_type": "stream",
       "stream": "stdout",
       "text": [
        "\n",
        "140bets"
       ]
      },
      {
       "output_type": "stream",
       "stream": "stdout",
       "text": [
        "\n",
        "plurchase"
       ]
      },
      {
       "output_type": "stream",
       "stream": "stdout",
       "text": [
        "\n",
        "givespark"
       ]
      },
      {
       "output_type": "stream",
       "stream": "stdout",
       "text": [
        "\n",
        "midnox"
       ]
      },
      {
       "output_type": "stream",
       "stream": "stdout",
       "text": [
        "\n",
        "carsabi"
       ]
      },
      {
       "output_type": "stream",
       "stream": "stdout",
       "text": [
        "\n",
        "per vices"
       ]
      },
      {
       "output_type": "stream",
       "stream": "stdout",
       "text": [
        "\n",
        "diaspora"
       ]
      },
      {
       "output_type": "stream",
       "stream": "stdout",
       "text": [
        "\n",
        "kippt"
       ]
      },
      {
       "output_type": "stream",
       "stream": "stdout",
       "text": [
        "\n",
        "virool"
       ]
      },
      {
       "output_type": "stream",
       "stream": "stdout",
       "text": [
        "\n",
        "smartasset"
       ]
      },
      {
       "output_type": "stream",
       "stream": "stdout",
       "text": [
        "\n",
        "sponsorfied"
       ]
      },
      {
       "output_type": "stream",
       "stream": "stdout",
       "text": [
        "\n",
        "everyday.me"
       ]
      },
      {
       "output_type": "stream",
       "stream": "stdout",
       "text": [
        "\n",
        "everyday.me is fucked"
       ]
      },
      {
       "output_type": "stream",
       "stream": "stdout",
       "text": [
        "\n",
        "quicklychat\n",
        "kamcord"
       ]
      },
      {
       "output_type": "stream",
       "stream": "stdout",
       "text": [
        "\n",
        "viacycle"
       ]
      },
      {
       "output_type": "stream",
       "stream": "stdout",
       "text": [
        "\n",
        "double robotics"
       ]
      },
      {
       "output_type": "stream",
       "stream": "stdout",
       "text": [
        "\n",
        "vastrm"
       ]
      },
      {
       "output_type": "stream",
       "stream": "stdout",
       "text": [
        "\n",
        "newsblur"
       ]
      },
      {
       "output_type": "stream",
       "stream": "stdout",
       "text": [
        "\n",
        "instacart"
       ]
      },
      {
       "output_type": "stream",
       "stream": "stdout",
       "text": [
        "\n",
        "yc s11 stealth - #60"
       ]
      },
      {
       "output_type": "stream",
       "stream": "stdout",
       "text": [
        "\n",
        "yc s11 stealth - #60 is fucked"
       ]
      },
      {
       "output_type": "stream",
       "stream": "stdout",
       "text": [
        "\n"
       ]
      }
     ],
     "prompt_number": 20
    },
    {
     "cell_type": "code",
     "collapsed": false,
     "input": [
      "new_list"
     ],
     "language": "python",
     "metadata": {},
     "outputs": [
      {
       "html": [
        "<div style=\"max-height:1000px;max-width:1500px;overflow:auto;\">\n",
        "<table border=\"1\" class=\"dataframe\">\n",
        "  <thead>\n",
        "    <tr style=\"text-align: right;\">\n",
        "      <th></th>\n",
        "      <th>a</th>\n",
        "      <th>angel</th>\n",
        "      <th>b</th>\n",
        "      <th>c</th>\n",
        "      <th>convertible</th>\n",
        "      <th>crowd</th>\n",
        "      <th>d</th>\n",
        "      <th>debt_round</th>\n",
        "      <th>partial</th>\n",
        "      <th>private_equity</th>\n",
        "      <th>seed</th>\n",
        "      <th>unattributed</th>\n",
        "    </tr>\n",
        "  </thead>\n",
        "  <tbody>\n",
        "    <tr>\n",
        "      <th>heroku</th>\n",
        "      <td>  3000000</td>\n",
        "      <td>     NaN</td>\n",
        "      <td> 10000000</td>\n",
        "      <td>      NaN</td>\n",
        "      <td>NaN</td>\n",
        "      <td>NaN</td>\n",
        "      <td>      NaN</td>\n",
        "      <td>NaN</td>\n",
        "      <td>     NaN</td>\n",
        "      <td>NaN</td>\n",
        "      <td>   20000</td>\n",
        "      <td>    NaN</td>\n",
        "    </tr>\n",
        "    <tr>\n",
        "      <th>omgpop</th>\n",
        "      <td>  1500000</td>\n",
        "      <td>       0</td>\n",
        "      <td> 15100000</td>\n",
        "      <td>      NaN</td>\n",
        "      <td>NaN</td>\n",
        "      <td>NaN</td>\n",
        "      <td>      NaN</td>\n",
        "      <td>NaN</td>\n",
        "      <td>     NaN</td>\n",
        "      <td>NaN</td>\n",
        "      <td>       0</td>\n",
        "      <td>    NaN</td>\n",
        "    </tr>\n",
        "    <tr>\n",
        "      <th>parse</th>\n",
        "      <td>  5500000</td>\n",
        "      <td> 1500000</td>\n",
        "      <td>      NaN</td>\n",
        "      <td>      NaN</td>\n",
        "      <td>NaN</td>\n",
        "      <td>NaN</td>\n",
        "      <td>      NaN</td>\n",
        "      <td>NaN</td>\n",
        "      <td>     NaN</td>\n",
        "      <td>NaN</td>\n",
        "      <td>     NaN</td>\n",
        "      <td>    NaN</td>\n",
        "    </tr>\n",
        "    <tr>\n",
        "      <th>socialcam</th>\n",
        "      <td>      NaN</td>\n",
        "      <td>       0</td>\n",
        "      <td>      NaN</td>\n",
        "      <td>      NaN</td>\n",
        "      <td>NaN</td>\n",
        "      <td>NaN</td>\n",
        "      <td>      NaN</td>\n",
        "      <td>NaN</td>\n",
        "      <td>     NaN</td>\n",
        "      <td>NaN</td>\n",
        "      <td>     NaN</td>\n",
        "      <td>    NaN</td>\n",
        "    </tr>\n",
        "    <tr>\n",
        "      <th>greplin</th>\n",
        "      <td>  4000000</td>\n",
        "      <td>     NaN</td>\n",
        "      <td>      NaN</td>\n",
        "      <td>      NaN</td>\n",
        "      <td>NaN</td>\n",
        "      <td>NaN</td>\n",
        "      <td>      NaN</td>\n",
        "      <td>NaN</td>\n",
        "      <td>     NaN</td>\n",
        "      <td>NaN</td>\n",
        "      <td>  715000</td>\n",
        "      <td>    NaN</td>\n",
        "    </tr>\n",
        "    <tr>\n",
        "      <th>cardpool</th>\n",
        "      <td>      NaN</td>\n",
        "      <td>     NaN</td>\n",
        "      <td>      NaN</td>\n",
        "      <td>      NaN</td>\n",
        "      <td>NaN</td>\n",
        "      <td>NaN</td>\n",
        "      <td>      NaN</td>\n",
        "      <td>NaN</td>\n",
        "      <td>     NaN</td>\n",
        "      <td>NaN</td>\n",
        "      <td>       0</td>\n",
        "      <td>    NaN</td>\n",
        "    </tr>\n",
        "    <tr>\n",
        "      <th>xobni</th>\n",
        "      <td>  4260000</td>\n",
        "      <td>   80000</td>\n",
        "      <td> 11200000</td>\n",
        "      <td> 16200000</td>\n",
        "      <td>NaN</td>\n",
        "      <td>NaN</td>\n",
        "      <td> 10000000</td>\n",
        "      <td>NaN</td>\n",
        "      <td>     NaN</td>\n",
        "      <td>NaN</td>\n",
        "      <td>   12000</td>\n",
        "      <td>    NaN</td>\n",
        "    </tr>\n",
        "    <tr>\n",
        "      <th>loopt</th>\n",
        "      <td>  5000000</td>\n",
        "      <td>     NaN</td>\n",
        "      <td> 12000000</td>\n",
        "      <td> 15000000</td>\n",
        "      <td>NaN</td>\n",
        "      <td>NaN</td>\n",
        "      <td>      NaN</td>\n",
        "      <td>NaN</td>\n",
        "      <td> 7099997</td>\n",
        "      <td>NaN</td>\n",
        "      <td>    6000</td>\n",
        "      <td>    NaN</td>\n",
        "    </tr>\n",
        "    <tr>\n",
        "      <th>wufoo</th>\n",
        "      <td>      NaN</td>\n",
        "      <td>     NaN</td>\n",
        "      <td>      NaN</td>\n",
        "      <td>      NaN</td>\n",
        "      <td>NaN</td>\n",
        "      <td>NaN</td>\n",
        "      <td>      NaN</td>\n",
        "      <td>NaN</td>\n",
        "      <td>     NaN</td>\n",
        "      <td>NaN</td>\n",
        "      <td>       0</td>\n",
        "      <td>    NaN</td>\n",
        "    </tr>\n",
        "    <tr>\n",
        "      <th>cloudkick</th>\n",
        "      <td>  2000000</td>\n",
        "      <td>     NaN</td>\n",
        "      <td>      NaN</td>\n",
        "      <td>      NaN</td>\n",
        "      <td>NaN</td>\n",
        "      <td>NaN</td>\n",
        "      <td>      NaN</td>\n",
        "      <td>NaN</td>\n",
        "      <td>     NaN</td>\n",
        "      <td>NaN</td>\n",
        "      <td>     NaN</td>\n",
        "      <td> 750000</td>\n",
        "    </tr>\n",
        "    <tr>\n",
        "      <th>mailgun</th>\n",
        "      <td>      NaN</td>\n",
        "      <td>     NaN</td>\n",
        "      <td>      NaN</td>\n",
        "      <td>      NaN</td>\n",
        "      <td>NaN</td>\n",
        "      <td>NaN</td>\n",
        "      <td>      NaN</td>\n",
        "      <td>NaN</td>\n",
        "      <td>     NaN</td>\n",
        "      <td>NaN</td>\n",
        "      <td> 1100000</td>\n",
        "      <td>    NaN</td>\n",
        "    </tr>\n",
        "    <tr>\n",
        "      <th>zencoder</th>\n",
        "      <td>  2000000</td>\n",
        "      <td>     NaN</td>\n",
        "      <td>      NaN</td>\n",
        "      <td>      NaN</td>\n",
        "      <td>NaN</td>\n",
        "      <td>NaN</td>\n",
        "      <td>      NaN</td>\n",
        "      <td>NaN</td>\n",
        "      <td>     NaN</td>\n",
        "      <td>NaN</td>\n",
        "      <td>       0</td>\n",
        "      <td>    NaN</td>\n",
        "    </tr>\n",
        "    <tr>\n",
        "      <th>reddit</th>\n",
        "      <td>      NaN</td>\n",
        "      <td>     NaN</td>\n",
        "      <td>      NaN</td>\n",
        "      <td>      NaN</td>\n",
        "      <td>NaN</td>\n",
        "      <td>NaN</td>\n",
        "      <td>      NaN</td>\n",
        "      <td>NaN</td>\n",
        "      <td>     NaN</td>\n",
        "      <td>NaN</td>\n",
        "      <td>  100000</td>\n",
        "      <td>    NaN</td>\n",
        "    </tr>\n",
        "    <tr>\n",
        "      <th>280 north</th>\n",
        "      <td>      NaN</td>\n",
        "      <td>  250000</td>\n",
        "      <td>      NaN</td>\n",
        "      <td>      NaN</td>\n",
        "      <td>NaN</td>\n",
        "      <td>NaN</td>\n",
        "      <td>      NaN</td>\n",
        "      <td>NaN</td>\n",
        "      <td>     NaN</td>\n",
        "      <td>NaN</td>\n",
        "      <td>       0</td>\n",
        "      <td>    NaN</td>\n",
        "    </tr>\n",
        "    <tr>\n",
        "      <th>1000memories</th>\n",
        "      <td>  2520000</td>\n",
        "      <td>     NaN</td>\n",
        "      <td>      NaN</td>\n",
        "      <td>      NaN</td>\n",
        "      <td>NaN</td>\n",
        "      <td>NaN</td>\n",
        "      <td>      NaN</td>\n",
        "      <td>NaN</td>\n",
        "      <td>     NaN</td>\n",
        "      <td>NaN</td>\n",
        "      <td>   15000</td>\n",
        "      <td>    NaN</td>\n",
        "    </tr>\n",
        "    <tr>\n",
        "      <th>talkbin</th>\n",
        "      <td>      NaN</td>\n",
        "      <td>     NaN</td>\n",
        "      <td>      NaN</td>\n",
        "      <td>      NaN</td>\n",
        "      <td>NaN</td>\n",
        "      <td>NaN</td>\n",
        "      <td>      NaN</td>\n",
        "      <td>NaN</td>\n",
        "      <td>     NaN</td>\n",
        "      <td>NaN</td>\n",
        "      <td>       0</td>\n",
        "      <td>    NaN</td>\n",
        "    </tr>\n",
        "    <tr>\n",
        "      <th>rapportive</th>\n",
        "      <td>      NaN</td>\n",
        "      <td>     NaN</td>\n",
        "      <td>      NaN</td>\n",
        "      <td>      NaN</td>\n",
        "      <td>NaN</td>\n",
        "      <td>NaN</td>\n",
        "      <td>      NaN</td>\n",
        "      <td>NaN</td>\n",
        "      <td>     NaN</td>\n",
        "      <td>NaN</td>\n",
        "      <td> 1000000</td>\n",
        "      <td>    NaN</td>\n",
        "    </tr>\n",
        "    <tr>\n",
        "      <th>omnisio</th>\n",
        "      <td>      NaN</td>\n",
        "      <td>     NaN</td>\n",
        "      <td>      NaN</td>\n",
        "      <td>      NaN</td>\n",
        "      <td>NaN</td>\n",
        "      <td>NaN</td>\n",
        "      <td>      NaN</td>\n",
        "      <td>NaN</td>\n",
        "      <td>     NaN</td>\n",
        "      <td>NaN</td>\n",
        "      <td>       0</td>\n",
        "      <td>    NaN</td>\n",
        "    </tr>\n",
        "    <tr>\n",
        "      <th>flightcaster</th>\n",
        "      <td>  1300000</td>\n",
        "      <td>     NaN</td>\n",
        "      <td>      NaN</td>\n",
        "      <td>      NaN</td>\n",
        "      <td>NaN</td>\n",
        "      <td>NaN</td>\n",
        "      <td>      NaN</td>\n",
        "      <td>NaN</td>\n",
        "      <td>     NaN</td>\n",
        "      <td>NaN</td>\n",
        "      <td>       0</td>\n",
        "      <td>    NaN</td>\n",
        "    </tr>\n",
        "    <tr>\n",
        "      <th>mertado</th>\n",
        "      <td>  2300000</td>\n",
        "      <td>     NaN</td>\n",
        "      <td>      NaN</td>\n",
        "      <td>      NaN</td>\n",
        "      <td>NaN</td>\n",
        "      <td>NaN</td>\n",
        "      <td>      NaN</td>\n",
        "      <td>NaN</td>\n",
        "      <td>     NaN</td>\n",
        "      <td>NaN</td>\n",
        "      <td>     NaN</td>\n",
        "      <td>    NaN</td>\n",
        "    </tr>\n",
        "    <tr>\n",
        "      <th>adgrok</th>\n",
        "      <td>      NaN</td>\n",
        "      <td>  470000</td>\n",
        "      <td>      NaN</td>\n",
        "      <td>      NaN</td>\n",
        "      <td>NaN</td>\n",
        "      <td>NaN</td>\n",
        "      <td>      NaN</td>\n",
        "      <td>NaN</td>\n",
        "      <td>     NaN</td>\n",
        "      <td>NaN</td>\n",
        "      <td>       0</td>\n",
        "      <td>    NaN</td>\n",
        "    </tr>\n",
        "    <tr>\n",
        "      <th>posterous</th>\n",
        "      <td>  4400000</td>\n",
        "      <td>  725000</td>\n",
        "      <td>  5000000</td>\n",
        "      <td>      NaN</td>\n",
        "      <td>NaN</td>\n",
        "      <td>NaN</td>\n",
        "      <td>      NaN</td>\n",
        "      <td>NaN</td>\n",
        "      <td>     NaN</td>\n",
        "      <td>NaN</td>\n",
        "      <td>   15000</td>\n",
        "      <td>    NaN</td>\n",
        "    </tr>\n",
        "    <tr>\n",
        "      <th>dailybooth</th>\n",
        "      <td>  6000000</td>\n",
        "      <td> 1000000</td>\n",
        "      <td>      NaN</td>\n",
        "      <td>      NaN</td>\n",
        "      <td>NaN</td>\n",
        "      <td>NaN</td>\n",
        "      <td>      NaN</td>\n",
        "      <td>NaN</td>\n",
        "      <td>     NaN</td>\n",
        "      <td>NaN</td>\n",
        "      <td>   15000</td>\n",
        "      <td>    NaN</td>\n",
        "    </tr>\n",
        "    <tr>\n",
        "      <th>appjet</th>\n",
        "      <td>      NaN</td>\n",
        "      <td>  700000</td>\n",
        "      <td>      NaN</td>\n",
        "      <td>      NaN</td>\n",
        "      <td>NaN</td>\n",
        "      <td>NaN</td>\n",
        "      <td>      NaN</td>\n",
        "      <td>NaN</td>\n",
        "      <td>     NaN</td>\n",
        "      <td>NaN</td>\n",
        "      <td>   15000</td>\n",
        "      <td>    NaN</td>\n",
        "    </tr>\n",
        "    <tr>\n",
        "      <th>socialpicks</th>\n",
        "      <td>   500000</td>\n",
        "      <td>     NaN</td>\n",
        "      <td>      NaN</td>\n",
        "      <td>      NaN</td>\n",
        "      <td>NaN</td>\n",
        "      <td>NaN</td>\n",
        "      <td>      NaN</td>\n",
        "      <td>NaN</td>\n",
        "      <td>     NaN</td>\n",
        "      <td>NaN</td>\n",
        "      <td>     NaN</td>\n",
        "      <td>    NaN</td>\n",
        "    </tr>\n",
        "    <tr>\n",
        "      <th>divvyshot</th>\n",
        "      <td>      NaN</td>\n",
        "      <td>     NaN</td>\n",
        "      <td>      NaN</td>\n",
        "      <td>      NaN</td>\n",
        "      <td>NaN</td>\n",
        "      <td>NaN</td>\n",
        "      <td>      NaN</td>\n",
        "      <td>NaN</td>\n",
        "      <td>     NaN</td>\n",
        "      <td>NaN</td>\n",
        "      <td>   10000</td>\n",
        "      <td>    NaN</td>\n",
        "    </tr>\n",
        "    <tr>\n",
        "      <th>echodio</th>\n",
        "      <td>      NaN</td>\n",
        "      <td>     NaN</td>\n",
        "      <td>      NaN</td>\n",
        "      <td>      NaN</td>\n",
        "      <td>NaN</td>\n",
        "      <td>NaN</td>\n",
        "      <td>      NaN</td>\n",
        "      <td>NaN</td>\n",
        "      <td>     NaN</td>\n",
        "      <td>NaN</td>\n",
        "      <td>       0</td>\n",
        "      <td>    NaN</td>\n",
        "    </tr>\n",
        "    <tr>\n",
        "      <th>snapjoy</th>\n",
        "      <td>      NaN</td>\n",
        "      <td>     NaN</td>\n",
        "      <td>      NaN</td>\n",
        "      <td>      NaN</td>\n",
        "      <td>NaN</td>\n",
        "      <td>NaN</td>\n",
        "      <td>      NaN</td>\n",
        "      <td>NaN</td>\n",
        "      <td>     NaN</td>\n",
        "      <td>NaN</td>\n",
        "      <td>       0</td>\n",
        "      <td>    NaN</td>\n",
        "    </tr>\n",
        "    <tr>\n",
        "      <th>backtype</th>\n",
        "      <td>      NaN</td>\n",
        "      <td>     NaN</td>\n",
        "      <td>      NaN</td>\n",
        "      <td>      NaN</td>\n",
        "      <td>NaN</td>\n",
        "      <td>NaN</td>\n",
        "      <td>      NaN</td>\n",
        "      <td>NaN</td>\n",
        "      <td>     NaN</td>\n",
        "      <td>NaN</td>\n",
        "      <td> 1315000</td>\n",
        "      <td>    NaN</td>\n",
        "    </tr>\n",
        "    <tr>\n",
        "      <th>auctomatic</th>\n",
        "      <td>      NaN</td>\n",
        "      <td>  400000</td>\n",
        "      <td>      NaN</td>\n",
        "      <td>      NaN</td>\n",
        "      <td>NaN</td>\n",
        "      <td>NaN</td>\n",
        "      <td>      NaN</td>\n",
        "      <td>NaN</td>\n",
        "      <td>     NaN</td>\n",
        "      <td>NaN</td>\n",
        "      <td>       0</td>\n",
        "      <td>    NaN</td>\n",
        "    </tr>\n",
        "    <tr>\n",
        "      <th>parakey</th>\n",
        "      <td>      NaN</td>\n",
        "      <td>     NaN</td>\n",
        "      <td>      NaN</td>\n",
        "      <td>      NaN</td>\n",
        "      <td>NaN</td>\n",
        "      <td>NaN</td>\n",
        "      <td>      NaN</td>\n",
        "      <td>NaN</td>\n",
        "      <td>     NaN</td>\n",
        "      <td>NaN</td>\n",
        "      <td>       0</td>\n",
        "      <td>    NaN</td>\n",
        "    </tr>\n",
        "    <tr>\n",
        "      <th>zenter</th>\n",
        "      <td>      NaN</td>\n",
        "      <td>     NaN</td>\n",
        "      <td>      NaN</td>\n",
        "      <td>      NaN</td>\n",
        "      <td>NaN</td>\n",
        "      <td>NaN</td>\n",
        "      <td>      NaN</td>\n",
        "      <td>NaN</td>\n",
        "      <td>     NaN</td>\n",
        "      <td>NaN</td>\n",
        "      <td>   15000</td>\n",
        "      <td>    NaN</td>\n",
        "    </tr>\n",
        "    <tr>\n",
        "      <th>heysan</th>\n",
        "      <td>      NaN</td>\n",
        "      <td>     NaN</td>\n",
        "      <td>      NaN</td>\n",
        "      <td>      NaN</td>\n",
        "      <td>NaN</td>\n",
        "      <td>NaN</td>\n",
        "      <td>      NaN</td>\n",
        "      <td>NaN</td>\n",
        "      <td>     NaN</td>\n",
        "      <td>NaN</td>\n",
        "      <td>  875000</td>\n",
        "      <td>    NaN</td>\n",
        "    </tr>\n",
        "    <tr>\n",
        "      <th>youos</th>\n",
        "      <td>      NaN</td>\n",
        "      <td>     NaN</td>\n",
        "      <td>      NaN</td>\n",
        "      <td>      NaN</td>\n",
        "      <td>NaN</td>\n",
        "      <td>NaN</td>\n",
        "      <td>      NaN</td>\n",
        "      <td>NaN</td>\n",
        "      <td>     NaN</td>\n",
        "      <td>NaN</td>\n",
        "      <td>       0</td>\n",
        "      <td>    NaN</td>\n",
        "    </tr>\n",
        "    <tr>\n",
        "      <th>etacts</th>\n",
        "      <td>      NaN</td>\n",
        "      <td>     NaN</td>\n",
        "      <td>      NaN</td>\n",
        "      <td>      NaN</td>\n",
        "      <td>NaN</td>\n",
        "      <td>NaN</td>\n",
        "      <td>      NaN</td>\n",
        "      <td>NaN</td>\n",
        "      <td>     NaN</td>\n",
        "      <td>NaN</td>\n",
        "      <td>  740000</td>\n",
        "      <td>    NaN</td>\n",
        "    </tr>\n",
        "    <tr>\n",
        "      <th>bufferbox</th>\n",
        "      <td>      NaN</td>\n",
        "      <td>     NaN</td>\n",
        "      <td>      NaN</td>\n",
        "      <td>      NaN</td>\n",
        "      <td>NaN</td>\n",
        "      <td>NaN</td>\n",
        "      <td>      NaN</td>\n",
        "      <td>NaN</td>\n",
        "      <td>     NaN</td>\n",
        "      <td>NaN</td>\n",
        "      <td> 1000000</td>\n",
        "      <td>    NaN</td>\n",
        "    </tr>\n",
        "    <tr>\n",
        "      <th>the fridge</th>\n",
        "      <td>      NaN</td>\n",
        "      <td>     NaN</td>\n",
        "      <td>      NaN</td>\n",
        "      <td>      NaN</td>\n",
        "      <td>NaN</td>\n",
        "      <td>NaN</td>\n",
        "      <td>      NaN</td>\n",
        "      <td>NaN</td>\n",
        "      <td>     NaN</td>\n",
        "      <td>NaN</td>\n",
        "      <td>       0</td>\n",
        "      <td>    NaN</td>\n",
        "    </tr>\n",
        "    <tr>\n",
        "      <th>remail</th>\n",
        "      <td>      NaN</td>\n",
        "      <td>     NaN</td>\n",
        "      <td>      NaN</td>\n",
        "      <td>      NaN</td>\n",
        "      <td>NaN</td>\n",
        "      <td>NaN</td>\n",
        "      <td>      NaN</td>\n",
        "      <td>NaN</td>\n",
        "      <td>     NaN</td>\n",
        "      <td>NaN</td>\n",
        "      <td>       0</td>\n",
        "      <td>    NaN</td>\n",
        "    </tr>\n",
        "    <tr>\n",
        "      <th>lingt</th>\n",
        "      <td>      NaN</td>\n",
        "      <td>     NaN</td>\n",
        "      <td>      NaN</td>\n",
        "      <td>      NaN</td>\n",
        "      <td>NaN</td>\n",
        "      <td>NaN</td>\n",
        "      <td>      NaN</td>\n",
        "      <td>NaN</td>\n",
        "      <td>     NaN</td>\n",
        "      <td>NaN</td>\n",
        "      <td>       0</td>\n",
        "      <td>    NaN</td>\n",
        "    </tr>\n",
        "    <tr>\n",
        "      <th>stypi</th>\n",
        "      <td>      NaN</td>\n",
        "      <td>     NaN</td>\n",
        "      <td>      NaN</td>\n",
        "      <td>      NaN</td>\n",
        "      <td>NaN</td>\n",
        "      <td>NaN</td>\n",
        "      <td>      NaN</td>\n",
        "      <td>NaN</td>\n",
        "      <td>     NaN</td>\n",
        "      <td>NaN</td>\n",
        "      <td>     NaN</td>\n",
        "      <td>      0</td>\n",
        "    </tr>\n",
        "    <tr>\n",
        "      <th>gazehawk</th>\n",
        "      <td>      NaN</td>\n",
        "      <td>     NaN</td>\n",
        "      <td>      NaN</td>\n",
        "      <td>      NaN</td>\n",
        "      <td>NaN</td>\n",
        "      <td>NaN</td>\n",
        "      <td>      NaN</td>\n",
        "      <td>NaN</td>\n",
        "      <td>     NaN</td>\n",
        "      <td>NaN</td>\n",
        "      <td>       0</td>\n",
        "      <td>    NaN</td>\n",
        "    </tr>\n",
        "    <tr>\n",
        "      <th>sendoid</th>\n",
        "      <td>      NaN</td>\n",
        "      <td>     NaN</td>\n",
        "      <td>      NaN</td>\n",
        "      <td>      NaN</td>\n",
        "      <td>NaN</td>\n",
        "      <td>NaN</td>\n",
        "      <td>      NaN</td>\n",
        "      <td>NaN</td>\n",
        "      <td>     NaN</td>\n",
        "      <td>NaN</td>\n",
        "      <td>       0</td>\n",
        "      <td>    NaN</td>\n",
        "    </tr>\n",
        "    <tr>\n",
        "      <th>tapengage</th>\n",
        "      <td>      NaN</td>\n",
        "      <td>     NaN</td>\n",
        "      <td>      NaN</td>\n",
        "      <td>      NaN</td>\n",
        "      <td>NaN</td>\n",
        "      <td>NaN</td>\n",
        "      <td>      NaN</td>\n",
        "      <td>NaN</td>\n",
        "      <td>     NaN</td>\n",
        "      <td>NaN</td>\n",
        "      <td>     NaN</td>\n",
        "      <td>      0</td>\n",
        "    </tr>\n",
        "    <tr>\n",
        "      <th>fanpulse</th>\n",
        "      <td>      NaN</td>\n",
        "      <td>     NaN</td>\n",
        "      <td>      NaN</td>\n",
        "      <td>      NaN</td>\n",
        "      <td>NaN</td>\n",
        "      <td>NaN</td>\n",
        "      <td>      NaN</td>\n",
        "      <td>NaN</td>\n",
        "      <td>     NaN</td>\n",
        "      <td>NaN</td>\n",
        "      <td>       0</td>\n",
        "      <td>    NaN</td>\n",
        "    </tr>\n",
        "    <tr>\n",
        "      <th>glassmap</th>\n",
        "      <td>      NaN</td>\n",
        "      <td>     NaN</td>\n",
        "      <td>      NaN</td>\n",
        "      <td>      NaN</td>\n",
        "      <td>NaN</td>\n",
        "      <td>NaN</td>\n",
        "      <td>      NaN</td>\n",
        "      <td>NaN</td>\n",
        "      <td>     NaN</td>\n",
        "      <td>NaN</td>\n",
        "      <td>       0</td>\n",
        "      <td>    NaN</td>\n",
        "    </tr>\n",
        "    <tr>\n",
        "      <th>clickpass</th>\n",
        "      <td>      NaN</td>\n",
        "      <td>     NaN</td>\n",
        "      <td>      NaN</td>\n",
        "      <td>      NaN</td>\n",
        "      <td>NaN</td>\n",
        "      <td>NaN</td>\n",
        "      <td>      NaN</td>\n",
        "      <td>NaN</td>\n",
        "      <td>     NaN</td>\n",
        "      <td>NaN</td>\n",
        "      <td>   20000</td>\n",
        "      <td>    NaN</td>\n",
        "    </tr>\n",
        "    <tr>\n",
        "      <th>voicegem</th>\n",
        "      <td>      NaN</td>\n",
        "      <td>     NaN</td>\n",
        "      <td>      NaN</td>\n",
        "      <td>      NaN</td>\n",
        "      <td>NaN</td>\n",
        "      <td>NaN</td>\n",
        "      <td>      NaN</td>\n",
        "      <td>NaN</td>\n",
        "      <td>     NaN</td>\n",
        "      <td>NaN</td>\n",
        "      <td>       0</td>\n",
        "      <td>    NaN</td>\n",
        "    </tr>\n",
        "    <tr>\n",
        "      <th>hackermeter</th>\n",
        "      <td>      NaN</td>\n",
        "      <td>     NaN</td>\n",
        "      <td>      NaN</td>\n",
        "      <td>      NaN</td>\n",
        "      <td>NaN</td>\n",
        "      <td>NaN</td>\n",
        "      <td>      NaN</td>\n",
        "      <td>NaN</td>\n",
        "      <td>     NaN</td>\n",
        "      <td>NaN</td>\n",
        "      <td>       0</td>\n",
        "      <td>    NaN</td>\n",
        "    </tr>\n",
        "    <tr>\n",
        "      <th>kiko</th>\n",
        "      <td>      NaN</td>\n",
        "      <td>     NaN</td>\n",
        "      <td>      NaN</td>\n",
        "      <td>      NaN</td>\n",
        "      <td>NaN</td>\n",
        "      <td>NaN</td>\n",
        "      <td>      NaN</td>\n",
        "      <td>NaN</td>\n",
        "      <td>     NaN</td>\n",
        "      <td>NaN</td>\n",
        "      <td>   50000</td>\n",
        "      <td>    NaN</td>\n",
        "    </tr>\n",
        "    <tr>\n",
        "      <th>picwing</th>\n",
        "      <td>      NaN</td>\n",
        "      <td>     NaN</td>\n",
        "      <td>      NaN</td>\n",
        "      <td>      NaN</td>\n",
        "      <td>NaN</td>\n",
        "      <td>NaN</td>\n",
        "      <td>      NaN</td>\n",
        "      <td>NaN</td>\n",
        "      <td>     NaN</td>\n",
        "      <td>NaN</td>\n",
        "      <td>       0</td>\n",
        "      <td>    NaN</td>\n",
        "    </tr>\n",
        "    <tr>\n",
        "      <th>slinkset</th>\n",
        "      <td>      NaN</td>\n",
        "      <td>     NaN</td>\n",
        "      <td>      NaN</td>\n",
        "      <td>      NaN</td>\n",
        "      <td>NaN</td>\n",
        "      <td>NaN</td>\n",
        "      <td>      NaN</td>\n",
        "      <td>NaN</td>\n",
        "      <td>     NaN</td>\n",
        "      <td>NaN</td>\n",
        "      <td>   15000</td>\n",
        "      <td>    NaN</td>\n",
        "    </tr>\n",
        "    <tr>\n",
        "      <th>crowdtilt</th>\n",
        "      <td> 12000000</td>\n",
        "      <td>     NaN</td>\n",
        "      <td> 23000000</td>\n",
        "      <td>      NaN</td>\n",
        "      <td>NaN</td>\n",
        "      <td>NaN</td>\n",
        "      <td>      NaN</td>\n",
        "      <td>NaN</td>\n",
        "      <td>     NaN</td>\n",
        "      <td>NaN</td>\n",
        "      <td> 2100000</td>\n",
        "      <td>    NaN</td>\n",
        "    </tr>\n",
        "    <tr>\n",
        "      <th>wundrbar</th>\n",
        "      <td>      NaN</td>\n",
        "      <td>     NaN</td>\n",
        "      <td>      NaN</td>\n",
        "      <td>      NaN</td>\n",
        "      <td>NaN</td>\n",
        "      <td>NaN</td>\n",
        "      <td>      NaN</td>\n",
        "      <td>NaN</td>\n",
        "      <td>     NaN</td>\n",
        "      <td>NaN</td>\n",
        "      <td>       0</td>\n",
        "      <td>    NaN</td>\n",
        "    </tr>\n",
        "    <tr>\n",
        "      <th>medigram</th>\n",
        "      <td>      NaN</td>\n",
        "      <td>     NaN</td>\n",
        "      <td>      NaN</td>\n",
        "      <td>      NaN</td>\n",
        "      <td>NaN</td>\n",
        "      <td>NaN</td>\n",
        "      <td>      NaN</td>\n",
        "      <td>NaN</td>\n",
        "      <td>     NaN</td>\n",
        "      <td>NaN</td>\n",
        "      <td>       0</td>\n",
        "      <td>    NaN</td>\n",
        "    </tr>\n",
        "    <tr>\n",
        "      <th>farmlogs</th>\n",
        "      <td>  4000000</td>\n",
        "      <td>     NaN</td>\n",
        "      <td>      NaN</td>\n",
        "      <td>      NaN</td>\n",
        "      <td>NaN</td>\n",
        "      <td>NaN</td>\n",
        "      <td>      NaN</td>\n",
        "      <td>NaN</td>\n",
        "      <td>     NaN</td>\n",
        "      <td>NaN</td>\n",
        "      <td> 1000000</td>\n",
        "      <td>    NaN</td>\n",
        "    </tr>\n",
        "    <tr>\n",
        "      <th>tsumobi</th>\n",
        "      <td>      NaN</td>\n",
        "      <td>     NaN</td>\n",
        "      <td>      NaN</td>\n",
        "      <td>      NaN</td>\n",
        "      <td>NaN</td>\n",
        "      <td>NaN</td>\n",
        "      <td>      NaN</td>\n",
        "      <td>NaN</td>\n",
        "      <td>     NaN</td>\n",
        "      <td>NaN</td>\n",
        "      <td>       0</td>\n",
        "      <td>      0</td>\n",
        "    </tr>\n",
        "    <tr>\n",
        "      <th>tellfi</th>\n",
        "      <td>      NaN</td>\n",
        "      <td>     NaN</td>\n",
        "      <td>      NaN</td>\n",
        "      <td>      NaN</td>\n",
        "      <td>NaN</td>\n",
        "      <td>NaN</td>\n",
        "      <td>      NaN</td>\n",
        "      <td>NaN</td>\n",
        "      <td>     NaN</td>\n",
        "      <td>NaN</td>\n",
        "      <td>       0</td>\n",
        "      <td>    NaN</td>\n",
        "    </tr>\n",
        "    <tr>\n",
        "      <th>socialmoth</th>\n",
        "      <td>      NaN</td>\n",
        "      <td>     NaN</td>\n",
        "      <td>      NaN</td>\n",
        "      <td>      NaN</td>\n",
        "      <td>NaN</td>\n",
        "      <td>NaN</td>\n",
        "      <td>      NaN</td>\n",
        "      <td>NaN</td>\n",
        "      <td>     NaN</td>\n",
        "      <td>NaN</td>\n",
        "      <td>       0</td>\n",
        "      <td>    NaN</td>\n",
        "    </tr>\n",
        "    <tr>\n",
        "      <th>noteleaf</th>\n",
        "      <td>      NaN</td>\n",
        "      <td>     NaN</td>\n",
        "      <td>      NaN</td>\n",
        "      <td>      NaN</td>\n",
        "      <td>NaN</td>\n",
        "      <td>NaN</td>\n",
        "      <td>      NaN</td>\n",
        "      <td>NaN</td>\n",
        "      <td>     NaN</td>\n",
        "      <td>NaN</td>\n",
        "      <td>       0</td>\n",
        "      <td>    NaN</td>\n",
        "    </tr>\n",
        "    <tr>\n",
        "      <th>flagr</th>\n",
        "      <td>      NaN</td>\n",
        "      <td>     NaN</td>\n",
        "      <td>      NaN</td>\n",
        "      <td>      NaN</td>\n",
        "      <td>NaN</td>\n",
        "      <td>NaN</td>\n",
        "      <td>      NaN</td>\n",
        "      <td>NaN</td>\n",
        "      <td>     NaN</td>\n",
        "      <td>NaN</td>\n",
        "      <td>       0</td>\n",
        "      <td>    NaN</td>\n",
        "    </tr>\n",
        "    <tr>\n",
        "      <th></th>\n",
        "      <td>...</td>\n",
        "      <td>...</td>\n",
        "      <td>...</td>\n",
        "      <td>...</td>\n",
        "      <td>...</td>\n",
        "      <td>...</td>\n",
        "      <td>...</td>\n",
        "      <td>...</td>\n",
        "      <td>...</td>\n",
        "      <td>...</td>\n",
        "      <td>...</td>\n",
        "      <td>...</td>\n",
        "    </tr>\n",
        "  </tbody>\n",
        "</table>\n",
        "<p>444 rows \u00d7 12 columns</p>\n",
        "</div>"
       ],
       "metadata": {},
       "output_type": "pyout",
       "prompt_number": 25,
       "text": [
        "                     a    angel         b         c  convertible  crowd  \\\n",
        "heroku         3000000      NaN  10000000       NaN          NaN    NaN   \n",
        "omgpop         1500000        0  15100000       NaN          NaN    NaN   \n",
        "parse          5500000  1500000       NaN       NaN          NaN    NaN   \n",
        "socialcam          NaN        0       NaN       NaN          NaN    NaN   \n",
        "greplin        4000000      NaN       NaN       NaN          NaN    NaN   \n",
        "cardpool           NaN      NaN       NaN       NaN          NaN    NaN   \n",
        "xobni          4260000    80000  11200000  16200000          NaN    NaN   \n",
        "loopt          5000000      NaN  12000000  15000000          NaN    NaN   \n",
        "wufoo              NaN      NaN       NaN       NaN          NaN    NaN   \n",
        "cloudkick      2000000      NaN       NaN       NaN          NaN    NaN   \n",
        "mailgun            NaN      NaN       NaN       NaN          NaN    NaN   \n",
        "zencoder       2000000      NaN       NaN       NaN          NaN    NaN   \n",
        "reddit             NaN      NaN       NaN       NaN          NaN    NaN   \n",
        "280 north          NaN   250000       NaN       NaN          NaN    NaN   \n",
        "1000memories   2520000      NaN       NaN       NaN          NaN    NaN   \n",
        "talkbin            NaN      NaN       NaN       NaN          NaN    NaN   \n",
        "rapportive         NaN      NaN       NaN       NaN          NaN    NaN   \n",
        "omnisio            NaN      NaN       NaN       NaN          NaN    NaN   \n",
        "flightcaster   1300000      NaN       NaN       NaN          NaN    NaN   \n",
        "mertado        2300000      NaN       NaN       NaN          NaN    NaN   \n",
        "adgrok             NaN   470000       NaN       NaN          NaN    NaN   \n",
        "posterous      4400000   725000   5000000       NaN          NaN    NaN   \n",
        "dailybooth     6000000  1000000       NaN       NaN          NaN    NaN   \n",
        "appjet             NaN   700000       NaN       NaN          NaN    NaN   \n",
        "socialpicks     500000      NaN       NaN       NaN          NaN    NaN   \n",
        "divvyshot          NaN      NaN       NaN       NaN          NaN    NaN   \n",
        "echodio            NaN      NaN       NaN       NaN          NaN    NaN   \n",
        "snapjoy            NaN      NaN       NaN       NaN          NaN    NaN   \n",
        "backtype           NaN      NaN       NaN       NaN          NaN    NaN   \n",
        "auctomatic         NaN   400000       NaN       NaN          NaN    NaN   \n",
        "parakey            NaN      NaN       NaN       NaN          NaN    NaN   \n",
        "zenter             NaN      NaN       NaN       NaN          NaN    NaN   \n",
        "heysan             NaN      NaN       NaN       NaN          NaN    NaN   \n",
        "youos              NaN      NaN       NaN       NaN          NaN    NaN   \n",
        "etacts             NaN      NaN       NaN       NaN          NaN    NaN   \n",
        "bufferbox          NaN      NaN       NaN       NaN          NaN    NaN   \n",
        "the fridge         NaN      NaN       NaN       NaN          NaN    NaN   \n",
        "remail             NaN      NaN       NaN       NaN          NaN    NaN   \n",
        "lingt              NaN      NaN       NaN       NaN          NaN    NaN   \n",
        "stypi              NaN      NaN       NaN       NaN          NaN    NaN   \n",
        "gazehawk           NaN      NaN       NaN       NaN          NaN    NaN   \n",
        "sendoid            NaN      NaN       NaN       NaN          NaN    NaN   \n",
        "tapengage          NaN      NaN       NaN       NaN          NaN    NaN   \n",
        "fanpulse           NaN      NaN       NaN       NaN          NaN    NaN   \n",
        "glassmap           NaN      NaN       NaN       NaN          NaN    NaN   \n",
        "clickpass          NaN      NaN       NaN       NaN          NaN    NaN   \n",
        "voicegem           NaN      NaN       NaN       NaN          NaN    NaN   \n",
        "hackermeter        NaN      NaN       NaN       NaN          NaN    NaN   \n",
        "kiko               NaN      NaN       NaN       NaN          NaN    NaN   \n",
        "picwing            NaN      NaN       NaN       NaN          NaN    NaN   \n",
        "slinkset           NaN      NaN       NaN       NaN          NaN    NaN   \n",
        "crowdtilt     12000000      NaN  23000000       NaN          NaN    NaN   \n",
        "wundrbar           NaN      NaN       NaN       NaN          NaN    NaN   \n",
        "medigram           NaN      NaN       NaN       NaN          NaN    NaN   \n",
        "farmlogs       4000000      NaN       NaN       NaN          NaN    NaN   \n",
        "tsumobi            NaN      NaN       NaN       NaN          NaN    NaN   \n",
        "tellfi             NaN      NaN       NaN       NaN          NaN    NaN   \n",
        "socialmoth         NaN      NaN       NaN       NaN          NaN    NaN   \n",
        "noteleaf           NaN      NaN       NaN       NaN          NaN    NaN   \n",
        "flagr              NaN      NaN       NaN       NaN          NaN    NaN   \n",
        "                   ...      ...       ...       ...          ...    ...   \n",
        "\n",
        "                     d  debt_round  partial  private_equity     seed  \\\n",
        "heroku             NaN         NaN      NaN             NaN    20000   \n",
        "omgpop             NaN         NaN      NaN             NaN        0   \n",
        "parse              NaN         NaN      NaN             NaN      NaN   \n",
        "socialcam          NaN         NaN      NaN             NaN      NaN   \n",
        "greplin            NaN         NaN      NaN             NaN   715000   \n",
        "cardpool           NaN         NaN      NaN             NaN        0   \n",
        "xobni         10000000         NaN      NaN             NaN    12000   \n",
        "loopt              NaN         NaN  7099997             NaN     6000   \n",
        "wufoo              NaN         NaN      NaN             NaN        0   \n",
        "cloudkick          NaN         NaN      NaN             NaN      NaN   \n",
        "mailgun            NaN         NaN      NaN             NaN  1100000   \n",
        "zencoder           NaN         NaN      NaN             NaN        0   \n",
        "reddit             NaN         NaN      NaN             NaN   100000   \n",
        "280 north          NaN         NaN      NaN             NaN        0   \n",
        "1000memories       NaN         NaN      NaN             NaN    15000   \n",
        "talkbin            NaN         NaN      NaN             NaN        0   \n",
        "rapportive         NaN         NaN      NaN             NaN  1000000   \n",
        "omnisio            NaN         NaN      NaN             NaN        0   \n",
        "flightcaster       NaN         NaN      NaN             NaN        0   \n",
        "mertado            NaN         NaN      NaN             NaN      NaN   \n",
        "adgrok             NaN         NaN      NaN             NaN        0   \n",
        "posterous          NaN         NaN      NaN             NaN    15000   \n",
        "dailybooth         NaN         NaN      NaN             NaN    15000   \n",
        "appjet             NaN         NaN      NaN             NaN    15000   \n",
        "socialpicks        NaN         NaN      NaN             NaN      NaN   \n",
        "divvyshot          NaN         NaN      NaN             NaN    10000   \n",
        "echodio            NaN         NaN      NaN             NaN        0   \n",
        "snapjoy            NaN         NaN      NaN             NaN        0   \n",
        "backtype           NaN         NaN      NaN             NaN  1315000   \n",
        "auctomatic         NaN         NaN      NaN             NaN        0   \n",
        "parakey            NaN         NaN      NaN             NaN        0   \n",
        "zenter             NaN         NaN      NaN             NaN    15000   \n",
        "heysan             NaN         NaN      NaN             NaN   875000   \n",
        "youos              NaN         NaN      NaN             NaN        0   \n",
        "etacts             NaN         NaN      NaN             NaN   740000   \n",
        "bufferbox          NaN         NaN      NaN             NaN  1000000   \n",
        "the fridge         NaN         NaN      NaN             NaN        0   \n",
        "remail             NaN         NaN      NaN             NaN        0   \n",
        "lingt              NaN         NaN      NaN             NaN        0   \n",
        "stypi              NaN         NaN      NaN             NaN      NaN   \n",
        "gazehawk           NaN         NaN      NaN             NaN        0   \n",
        "sendoid            NaN         NaN      NaN             NaN        0   \n",
        "tapengage          NaN         NaN      NaN             NaN      NaN   \n",
        "fanpulse           NaN         NaN      NaN             NaN        0   \n",
        "glassmap           NaN         NaN      NaN             NaN        0   \n",
        "clickpass          NaN         NaN      NaN             NaN    20000   \n",
        "voicegem           NaN         NaN      NaN             NaN        0   \n",
        "hackermeter        NaN         NaN      NaN             NaN        0   \n",
        "kiko               NaN         NaN      NaN             NaN    50000   \n",
        "picwing            NaN         NaN      NaN             NaN        0   \n",
        "slinkset           NaN         NaN      NaN             NaN    15000   \n",
        "crowdtilt          NaN         NaN      NaN             NaN  2100000   \n",
        "wundrbar           NaN         NaN      NaN             NaN        0   \n",
        "medigram           NaN         NaN      NaN             NaN        0   \n",
        "farmlogs           NaN         NaN      NaN             NaN  1000000   \n",
        "tsumobi            NaN         NaN      NaN             NaN        0   \n",
        "tellfi             NaN         NaN      NaN             NaN        0   \n",
        "socialmoth         NaN         NaN      NaN             NaN        0   \n",
        "noteleaf           NaN         NaN      NaN             NaN        0   \n",
        "flagr              NaN         NaN      NaN             NaN        0   \n",
        "                   ...         ...      ...             ...      ...   \n",
        "\n",
        "              unattributed  \n",
        "heroku                 NaN  \n",
        "omgpop                 NaN  \n",
        "parse                  NaN  \n",
        "socialcam              NaN  \n",
        "greplin                NaN  \n",
        "cardpool               NaN  \n",
        "xobni                  NaN  \n",
        "loopt                  NaN  \n",
        "wufoo                  NaN  \n",
        "cloudkick           750000  \n",
        "mailgun                NaN  \n",
        "zencoder               NaN  \n",
        "reddit                 NaN  \n",
        "280 north              NaN  \n",
        "1000memories           NaN  \n",
        "talkbin                NaN  \n",
        "rapportive             NaN  \n",
        "omnisio                NaN  \n",
        "flightcaster           NaN  \n",
        "mertado                NaN  \n",
        "adgrok                 NaN  \n",
        "posterous              NaN  \n",
        "dailybooth             NaN  \n",
        "appjet                 NaN  \n",
        "socialpicks            NaN  \n",
        "divvyshot              NaN  \n",
        "echodio                NaN  \n",
        "snapjoy                NaN  \n",
        "backtype               NaN  \n",
        "auctomatic             NaN  \n",
        "parakey                NaN  \n",
        "zenter                 NaN  \n",
        "heysan                 NaN  \n",
        "youos                  NaN  \n",
        "etacts                 NaN  \n",
        "bufferbox              NaN  \n",
        "the fridge             NaN  \n",
        "remail                 NaN  \n",
        "lingt                  NaN  \n",
        "stypi                    0  \n",
        "gazehawk               NaN  \n",
        "sendoid                NaN  \n",
        "tapengage                0  \n",
        "fanpulse               NaN  \n",
        "glassmap               NaN  \n",
        "clickpass              NaN  \n",
        "voicegem               NaN  \n",
        "hackermeter            NaN  \n",
        "kiko                   NaN  \n",
        "picwing                NaN  \n",
        "slinkset               NaN  \n",
        "crowdtilt              NaN  \n",
        "wundrbar               NaN  \n",
        "medigram               NaN  \n",
        "farmlogs               NaN  \n",
        "tsumobi                  0  \n",
        "tellfi                 NaN  \n",
        "socialmoth             NaN  \n",
        "noteleaf               NaN  \n",
        "flagr                  NaN  \n",
        "                       ...  \n",
        "\n",
        "[444 rows x 12 columns]"
       ]
      }
     ],
     "prompt_number": 25
    },
    {
     "cell_type": "raw",
     "metadata": {},
     "source": [
      "Great, now let's plot our series funding against company exit values! (new_list and exit_values)"
     ]
    },
    {
     "cell_type": "code",
     "collapsed": false,
     "input": [
      "final = DataFrame.merge(new_list, exit_values, left_index=True, right_index = True, how='outer')\n",
      "\n"
     ],
     "language": "python",
     "metadata": {},
     "outputs": [],
     "prompt_number": 93
    },
    {
     "cell_type": "code",
     "collapsed": false,
     "input": [
      "final = final.sort(['Exit Value'], ascending = [False])"
     ],
     "language": "python",
     "metadata": {},
     "outputs": [],
     "prompt_number": 95
    },
    {
     "cell_type": "code",
     "collapsed": false,
     "input": [
      "print final[:10]"
     ],
     "language": "python",
     "metadata": {},
     "outputs": [
      {
       "output_type": "stream",
       "stream": "stdout",
       "text": [
        "                 a    angel         b         c  convertible  crowd         d  \\\n",
        "heroku     3000000      NaN  10000000       NaN          NaN    NaN       NaN   \n",
        "omgpop     1500000        0  15100000       NaN          NaN    NaN       NaN   \n",
        "parse      5500000  1500000       NaN       NaN          NaN    NaN       NaN   \n",
        "socialcam      NaN        0       NaN       NaN          NaN    NaN       NaN   \n",
        "cardpool       NaN      NaN       NaN       NaN          NaN    NaN       NaN   \n",
        "greplin    4000000      NaN       NaN       NaN          NaN    NaN       NaN   \n",
        "xobni      4260000    80000  11200000  16200000          NaN    NaN  10000000   \n",
        "loopt      5000000      NaN  12000000  15000000          NaN    NaN       NaN   \n",
        "flutter        NaN      NaN       NaN       NaN          NaN    NaN       NaN   \n",
        "wufoo          NaN      NaN       NaN       NaN          NaN    NaN       NaN   \n",
        "\n",
        "           debt_round  partial  private_equity    seed  unattributed  \\\n",
        "heroku            NaN      NaN             NaN   20000           NaN   \n",
        "omgpop            NaN      NaN             NaN       0           NaN   \n",
        "parse             NaN      NaN             NaN     NaN           NaN   \n",
        "socialcam         NaN      NaN             NaN     NaN           NaN   \n",
        "cardpool          NaN      NaN             NaN       0           NaN   \n",
        "greplin           NaN      NaN             NaN  715000           NaN   \n",
        "xobni             NaN      NaN             NaN   12000           NaN   \n",
        "loopt             NaN  7099997             NaN    6000           NaN   \n",
        "flutter           NaN      NaN             NaN     NaN           NaN   \n",
        "wufoo             NaN      NaN             NaN       0           NaN   \n",
        "\n",
        "           Exit Value  \n",
        "heroku      250000000  \n",
        "omgpop      210000000  \n",
        "parse        90000000  \n",
        "socialcam    60000000  \n",
        "cardpool     50000000  \n",
        "greplin      50000000  \n",
        "xobni        48000000  \n",
        "loopt        43000000  \n",
        "flutter      40000000  \n",
        "wufoo        35000000  \n",
        "\n",
        "[10 rows x 13 columns]\n"
       ]
      }
     ],
     "prompt_number": 97
    },
    {
     "cell_type": "code",
     "collapsed": false,
     "input": [
      "#Series A funding against exit values\n",
      "y = np.log(final['Exit Value'], dtype='float64')\n",
      "x = np.log(final['a'], dtype='float64')\n",
      "\n",
      "fig = plt.figure()\n",
      "plt.scatter(x, y)\n",
      "\n",
      "\n"
     ],
     "language": "python",
     "metadata": {},
     "outputs": [
      {
       "metadata": {},
       "output_type": "pyout",
       "prompt_number": 99,
       "text": [
        "<matplotlib.collections.PathCollection at 0x1089d2a10>"
       ]
      },
      {
       "metadata": {},
       "output_type": "display_data",
       "png": "[encoded data removed]",
       "text": [
        "<matplotlib.figure.Figure at 0x10831d210>"
       ]
      }
     ],
     "prompt_number": 99
    },
    {
     "cell_type": "code",
     "collapsed": false,
     "input": [
      "y = np.log(final['Exit Value'], dtype='float64')\n",
      "x = np.log(final['b'], dtype='float64')\n",
      "\n",
      "fig = plt.figure()\n",
      "plt.scatter(x, y)"
     ],
     "language": "python",
     "metadata": {},
     "outputs": [
      {
       "metadata": {},
       "output_type": "pyout",
       "prompt_number": 100,
       "text": [
        "<matplotlib.collections.PathCollection at 0x1082e1c90>"
       ]
      },
      {
       "metadata": {},
       "output_type": "display_data",
       "png": "[encoded data removed]",
       "text": [
        "<matplotlib.figure.Figure at 0x10831d310>"
       ]
      }
     ],
     "prompt_number": 100
    },
    {
     "cell_type": "code",
     "collapsed": false,
     "input": [
      "y = np.log(final['Exit Value'], dtype='float64')\n",
      "x_1 = np.log(final['seed'], dtype='float64')\n",
      "x_2 = np.log(final['a'], dtype='float64')\n",
      "x_3 = np.log(final['b'], dtype='float64')\n",
      "x_4 = np.log(final['c'], dtype='float64')\n",
      "x_5 = np.log(final['unattributed'], dtype='float64')\n",
      "\n",
      "plt.scatter(x_1, y)\n",
      "plt.scatter(x_2, y, color='r')\n",
      "plt.scatter(x_3, y, color='g')\n",
      "plt.scatter(x_4, y, color='m')\n",
      "plt.scatter(x_5, y, color='y')\n",
      "zip(['r', 'g', 'm', 'y'], ['Seed', 'Series a', 'Series b', 'Series c', 'Unattributed'])\n",
      "plt.legend()\n",
      "\n",
      "# ((x_1, x_2, x_3, x_4, x_5),\n",
      "#            ('Seed', 'Series a', 'Series b', 'Series c', 'Unattributed'))\n",
      "show()\n"
     ],
     "language": "python",
     "metadata": {},
     "outputs": [
      {
       "metadata": {},
       "output_type": "display_data",
       "png": "[encoded data removed]",
       "text": [
        "<matplotlib.figure.Figure at 0x108304e90>"
       ]
      }
     ],
     "prompt_number": 124
    },
    {
     "cell_type": "code",
     "collapsed": false,
     "input": [],
     "language": "python",
     "metadata": {},
     "outputs": []
    }
   ],
   "metadata": {}
  }
 ]
}